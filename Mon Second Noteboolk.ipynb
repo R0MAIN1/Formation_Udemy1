{
 "cells": [
  {
   "cell_type": "code",
   "execution_count": 394,
   "id": "2b731952",
   "metadata": {},
   "outputs": [],
   "source": [
    "import numpy as np"
   ]
  },
  {
   "cell_type": "code",
   "execution_count": 395,
   "id": "cf933103",
   "metadata": {},
   "outputs": [],
   "source": [
    "vector = np.array([2,6,8])"
   ]
  },
  {
   "cell_type": "code",
   "execution_count": 396,
   "id": "53ec10f0",
   "metadata": {},
   "outputs": [
    {
     "name": "stdout",
     "output_type": "stream",
     "text": [
      "(3,)\n"
     ]
    }
   ],
   "source": [
    "print(vector.shape)"
   ]
  },
  {
   "cell_type": "code",
   "execution_count": 397,
   "id": "0c8d6fd4",
   "metadata": {},
   "outputs": [
    {
     "name": "stdout",
     "output_type": "stream",
     "text": [
      "(4, 3)\n"
     ]
    }
   ],
   "source": [
    "matrix = np.array([[10,20,30],[70,80,90],[110,120,130],[170,180,200]])\n",
    "print(matrix.shape)"
   ]
  },
  {
   "cell_type": "code",
   "execution_count": 398,
   "id": "4ccd3b63",
   "metadata": {},
   "outputs": [],
   "source": [
    "matrix = np.array([[10,20,30],[70,80,90],[110,120,130],[170,180,200]])"
   ]
  },
  {
   "cell_type": "code",
   "execution_count": 399,
   "id": "cc292727",
   "metadata": {},
   "outputs": [
    {
     "name": "stdout",
     "output_type": "stream",
     "text": [
      "(4, 3)\n"
     ]
    }
   ],
   "source": [
    "print(matrix.shape) #dimensions"
   ]
  },
  {
   "cell_type": "code",
   "execution_count": 400,
   "id": "35fd5037",
   "metadata": {},
   "outputs": [
    {
     "name": "stdout",
     "output_type": "stream",
     "text": [
      "(3,)\n",
      "(4, 3)\n"
     ]
    }
   ],
   "source": [
    "import numpy as np \n",
    "vector = np.array([2,6,8])\n",
    "matrix = np.array([[10,20,30],[70,80,90],[110,120,130],[170,180,200]])\n",
    "\n",
    "vector_shape = vector.shape\n",
    "matrix_shape = matrix.shape\n",
    "\n",
    "print(vector_shape)\n",
    "print(matrix_shape)"
   ]
  },
  {
   "cell_type": "code",
   "execution_count": 401,
   "id": "f3c0978a",
   "metadata": {},
   "outputs": [
    {
     "name": "stdout",
     "output_type": "stream",
     "text": [
      "(3,)\n",
      "(4, 3)\n"
     ]
    }
   ],
   "source": [
    "import numpy as np \n",
    "vector = np.array([2,6,8])\n",
    "matrix = np.array([[10,20,30],[70,80,90],[110,120,130],[170,180,200]])\n",
    "\n",
    "vector_shape = vector.shape\n",
    "matrix_shape = matrix.shape\n",
    "\n",
    "print(vector_shape)\n",
    "print(matrix_shape)"
   ]
  },
  {
   "cell_type": "code",
   "execution_count": 402,
   "id": "2e55613d",
   "metadata": {},
   "outputs": [
    {
     "name": "stdout",
     "output_type": "stream",
     "text": [
      "[[      nan       nan       nan       nan       nan]\n",
      " [1.986e+03       nan       nan       nan 0.000e+00]\n",
      " [1.986e+03       nan       nan       nan 5.000e-01]\n",
      " ...\n",
      " [1.986e+03       nan       nan       nan 2.540e+00]\n",
      " [1.987e+03       nan       nan       nan 0.000e+00]\n",
      " [1.986e+03       nan       nan       nan 5.150e+00]]\n"
     ]
    }
   ],
   "source": [
    "import numpy as np \n",
    "world_alcohol = np.genfromtxt(\"world_alcohol.csv\", delimiter=\",\")\n",
    "print(world_alcohol)"
   ]
  },
  {
   "cell_type": "code",
   "execution_count": 403,
   "id": "0de88bdc",
   "metadata": {},
   "outputs": [],
   "source": [
    "import numpy as np \n",
    "world_alcohol = np.genfromtxt(\"world_alcohol.csv\", delimiter=\",\")\n",
    "world_alcohol_dtype = world_alcohol.dtype"
   ]
  },
  {
   "cell_type": "code",
   "execution_count": 404,
   "id": "149d7a9c",
   "metadata": {},
   "outputs": [
    {
     "name": "stdout",
     "output_type": "stream",
     "text": [
      "float64\n"
     ]
    }
   ],
   "source": [
    "import numpy as np \n",
    "world_alcohol = np.genfromtxt(\"world_alcohol.csv\", delimiter=\",\")\n",
    "world_alcohol_dtype = world_alcohol.dtype\n",
    "print(world_alcohol_dtype)"
   ]
  },
  {
   "cell_type": "code",
   "execution_count": 405,
   "id": "c61119fb",
   "metadata": {},
   "outputs": [
    {
     "name": "stdout",
     "output_type": "stream",
     "text": [
      "[['1986' 'Western Pacific' 'Viet Nam' 'Wine' '0']\n",
      " ['1986' 'Americas' 'Uruguay' 'Other' '0.5']\n",
      " ['1985' 'Africa' \"Cte d'Ivoire\" 'Wine' '1.62']\n",
      " ...\n",
      " ['1986' 'Europe' 'Switzerland' 'Spirits' '2.54']\n",
      " ['1987' 'Western Pacific' 'Papua New Guinea' 'Other' '0']\n",
      " ['1986' 'Africa' 'Swaziland' 'Other' '5.15']]\n"
     ]
    }
   ],
   "source": [
    "import numpy as np \n",
    "world_alcohol = np.genfromtxt(\"world_alcohol.csv\", delimiter=\",\", dtype = \"U75\",skip_header=1 )\n",
    "print(world_alcohol)"
   ]
  },
  {
   "cell_type": "code",
   "execution_count": 406,
   "id": "2774d21c",
   "metadata": {},
   "outputs": [
    {
     "name": "stdout",
     "output_type": "stream",
     "text": [
      "20\n"
     ]
    }
   ],
   "source": [
    "vector = np.array([10,20,30])\n",
    "print(vector[1])"
   ]
  },
  {
   "cell_type": "code",
   "execution_count": 407,
   "id": "da0b5c72",
   "metadata": {},
   "outputs": [
    {
     "data": {
      "text/plain": [
       "70"
      ]
     },
     "execution_count": 407,
     "metadata": {},
     "output_type": "execute_result"
    }
   ],
   "source": [
    "import numpy as np\n",
    "matrix = np.array([[50,60,70],[80,90,100]])\n",
    "matrix[0,2]  \n"
   ]
  },
  {
   "cell_type": "code",
   "execution_count": 408,
   "id": "a1e81f56",
   "metadata": {},
   "outputs": [
    {
     "data": {
      "text/plain": [
       "70"
      ]
     },
     "execution_count": 408,
     "metadata": {},
     "output_type": "execute_result"
    }
   ],
   "source": [
    "import numpy as np\n",
    "matrix = np.array([[50,60,70],[80,90,100]])\n",
    "matrix[0,2]  "
   ]
  },
  {
   "cell_type": "code",
   "execution_count": 409,
   "id": "c111c76b",
   "metadata": {},
   "outputs": [
    {
     "data": {
      "text/plain": [
       "70"
      ]
     },
     "execution_count": 409,
     "metadata": {},
     "output_type": "execute_result"
    }
   ],
   "source": [
    "list_of_lists = [[50,60,70],[80,90,100]]\n",
    "list_of_lists[0][2]"
   ]
  },
  {
   "cell_type": "code",
   "execution_count": 410,
   "id": "9cc25238",
   "metadata": {},
   "outputs": [
    {
     "name": "stdout",
     "output_type": "stream",
     "text": [
      "1.62\n"
     ]
    }
   ],
   "source": [
    "import numpy as np\n",
    "world_alcohol = np.genfromtxt(\"world_alcohol.csv\", delimiter=\",\", dtype = \"U75\",skip_header = 1)\n",
    "ivoire_1985 = world_alcohol[2,4]\n",
    "print(ivoire_1985)\n"
   ]
  },
  {
   "cell_type": "code",
   "execution_count": 411,
   "id": "f8324a8e",
   "metadata": {},
   "outputs": [
    {
     "name": "stdout",
     "output_type": "stream",
     "text": [
      "Uruguay\n"
     ]
    }
   ],
   "source": [
    "import numpy as np \n",
    "world_alcohol = np.genfromtxt(\"world_alcohol.csv\", delimiter=\",\", dtype = \"U75\",skip_header = 1)\n",
    "second_country = world_alcohol[1,2]\n",
    "print(second_country)"
   ]
  },
  {
   "cell_type": "markdown",
   "id": "b630d5c0",
   "metadata": {},
   "source": [
    "  # EXTRAIRE UN VECTEUR DE VALEUR DEPUIS UN TABLEAU NUMPY "
   ]
  },
  {
   "cell_type": "code",
   "execution_count": 412,
   "id": "0089c6b5",
   "metadata": {},
   "outputs": [
    {
     "data": {
      "text/plain": [
       "array([20, 30])"
      ]
     },
     "execution_count": 412,
     "metadata": {},
     "output_type": "execute_result"
    }
   ],
   "source": [
    "import numpy as np \n",
    "vector = np.array([10,20,30,40])\n",
    "vector[1:3]"
   ]
  },
  {
   "cell_type": "code",
   "execution_count": 413,
   "id": "6219d6aa",
   "metadata": {
    "scrolled": true
   },
   "outputs": [
    {
     "name": "stdout",
     "output_type": "stream",
     "text": [
      "[[ 50  60  70]\n",
      " [ 80  90 100]\n",
      " [110 120 130]]\n"
     ]
    }
   ],
   "source": [
    "matrix = np.array([[50,60,70],[80,90,100],[110,120,130]])\n",
    "print(matrix)"
   ]
  },
  {
   "cell_type": "code",
   "execution_count": 414,
   "id": "9c69e158",
   "metadata": {},
   "outputs": [
    {
     "data": {
      "text/plain": [
       "array([ 60,  90, 120])"
      ]
     },
     "execution_count": 414,
     "metadata": {},
     "output_type": "execute_result"
    }
   ],
   "source": [
    "matrix[:,1] #affiche tous les élements d'une colonne "
   ]
  },
  {
   "cell_type": "code",
   "execution_count": 415,
   "id": "124f5355",
   "metadata": {},
   "outputs": [
    {
     "data": {
      "text/plain": [
       "array([110, 120, 130])"
      ]
     },
     "execution_count": 415,
     "metadata": {},
     "output_type": "execute_result"
    }
   ],
   "source": [
    "matrix[2,:] # afficher tous les élements d'une ligne "
   ]
  },
  {
   "cell_type": "code",
   "execution_count": 416,
   "id": "3ac0daeb",
   "metadata": {},
   "outputs": [
    {
     "data": {
      "text/plain": [
       "array([ 80,  90, 100])"
      ]
     },
     "execution_count": 416,
     "metadata": {},
     "output_type": "execute_result"
    }
   ],
   "source": [
    "matrix[1,:] #affiche tous les élements d'une ligne "
   ]
  },
  {
   "cell_type": "code",
   "execution_count": 417,
   "id": "bc74e8bf",
   "metadata": {},
   "outputs": [
    {
     "data": {
      "text/plain": [
       "array([ 50,  80, 110])"
      ]
     },
     "execution_count": 417,
     "metadata": {},
     "output_type": "execute_result"
    }
   ],
   "source": [
    "matrix[:,0] #affiche les éléments d'une colonne      "
   ]
  },
  {
   "cell_type": "code",
   "execution_count": 418,
   "id": "38d0e319",
   "metadata": {},
   "outputs": [
    {
     "data": {
      "text/plain": [
       "array([50, 60, 70])"
      ]
     },
     "execution_count": 418,
     "metadata": {},
     "output_type": "execute_result"
    }
   ],
   "source": [
    "matrix[0,:]"
   ]
  },
  {
   "cell_type": "code",
   "execution_count": 419,
   "id": "9b7745e6",
   "metadata": {},
   "outputs": [
    {
     "data": {
      "text/plain": [
       "array([ 70, 100, 130])"
      ]
     },
     "execution_count": 419,
     "metadata": {},
     "output_type": "execute_result"
    }
   ],
   "source": [
    "matrix[:,2]"
   ]
  },
  {
   "cell_type": "code",
   "execution_count": 420,
   "id": "f32cb2ef",
   "metadata": {},
   "outputs": [
    {
     "data": {
      "text/plain": [
       "array([[ 80,  90, 100]])"
      ]
     },
     "execution_count": 420,
     "metadata": {},
     "output_type": "execute_result"
    }
   ],
   "source": [
    "matrix[1:2]"
   ]
  },
  {
   "cell_type": "code",
   "execution_count": 421,
   "id": "8335176a",
   "metadata": {},
   "outputs": [
    {
     "data": {
      "text/plain": [
       "array([ 90, 120])"
      ]
     },
     "execution_count": 421,
     "metadata": {},
     "output_type": "execute_result"
    }
   ],
   "source": [
    "matrix[1:3,1]"
   ]
  },
  {
   "cell_type": "code",
   "execution_count": 422,
   "id": "22270391",
   "metadata": {},
   "outputs": [
    {
     "name": "stdout",
     "output_type": "stream",
     "text": [
      "[['Year' 'WHO region' 'Country' 'Beverage Types' 'Display Value']\n",
      " ['1986' 'Western Pacific' 'Viet Nam' 'Wine' '0']\n",
      " ['1986' 'Americas' 'Uruguay' 'Other' '0.5']\n",
      " ...\n",
      " ['1986' 'Europe' 'Switzerland' 'Spirits' '2.54']\n",
      " ['1987' 'Western Pacific' 'Papua New Guinea' 'Other' '0']\n",
      " ['1986' 'Africa' 'Swaziland' 'Other' '5.15']]\n"
     ]
    }
   ],
   "source": [
    "import numpy as np \n",
    "world_alcohol = np.genfromtxt(\"world_alcohol.csv\", delimiter=\",\", dtype = \"U75\")\n",
    "print(world_alcohol)\n",
    "  "
   ]
  },
  {
   "cell_type": "code",
   "execution_count": 423,
   "id": "fd25b07b",
   "metadata": {},
   "outputs": [],
   "source": [
    "countries = world_alcohol[:,2]"
   ]
  },
  {
   "cell_type": "code",
   "execution_count": 424,
   "id": "13da88c6",
   "metadata": {},
   "outputs": [
    {
     "name": "stdout",
     "output_type": "stream",
     "text": [
      "['Country' 'Viet Nam' 'Uruguay' ... 'Switzerland' 'Papua New Guinea'\n",
      " 'Swaziland']\n"
     ]
    }
   ],
   "source": [
    "print(countries)"
   ]
  },
  {
   "cell_type": "code",
   "execution_count": 425,
   "id": "e36a42f7",
   "metadata": {},
   "outputs": [
    {
     "name": "stdout",
     "output_type": "stream",
     "text": [
      "['Display Value' '0' '0.5' ... '2.54' '0' '5.15']\n"
     ]
    }
   ],
   "source": [
    "alcohol_consumption = world_alcohol[:,4]\n",
    "print(alcohol_consumption)"
   ]
  },
  {
   "cell_type": "code",
   "execution_count": 426,
   "id": "e76c4412",
   "metadata": {},
   "outputs": [
    {
     "name": "stdout",
     "output_type": "stream",
     "text": [
      "[[ 50  60  70]\n",
      " [ 80  90 100]\n",
      " [110 120 130]]\n"
     ]
    }
   ],
   "source": [
    "print(matrix)"
   ]
  },
  {
   "cell_type": "code",
   "execution_count": 427,
   "id": "c2c42dce",
   "metadata": {},
   "outputs": [
    {
     "data": {
      "text/plain": [
       "array([[ 50,  60],\n",
       "       [ 80,  90],\n",
       "       [110, 120]])"
      ]
     },
     "execution_count": 427,
     "metadata": {},
     "output_type": "execute_result"
    }
   ],
   "source": [
    "matrix[:,0:2]"
   ]
  },
  {
   "cell_type": "code",
   "execution_count": 428,
   "id": "522c6152",
   "metadata": {},
   "outputs": [
    {
     "data": {
      "text/plain": [
       "array([[ 80,  90, 100],\n",
       "       [110, 120, 130]])"
      ]
     },
     "execution_count": 428,
     "metadata": {},
     "output_type": "execute_result"
    }
   ],
   "source": [
    "matrix[1:3,:]"
   ]
  },
  {
   "cell_type": "code",
   "execution_count": 429,
   "id": "7dcfeecf",
   "metadata": {},
   "outputs": [
    {
     "name": "stdout",
     "output_type": "stream",
     "text": [
      "[['Year' 'WHO region']\n",
      " ['1986' 'Western Pacific']\n",
      " ['1986' 'Americas']\n",
      " ...\n",
      " ['1986' 'Europe']\n",
      " ['1987' 'Western Pacific']\n",
      " ['1986' 'Africa']]\n"
     ]
    }
   ],
   "source": [
    "first_two_columns = world_alcohol[:,0:2]\n",
    "print(first_two_columns)"
   ]
  },
  {
   "cell_type": "code",
   "execution_count": 430,
   "id": "57b5f04a",
   "metadata": {},
   "outputs": [
    {
     "name": "stdout",
     "output_type": "stream",
     "text": [
      "[['Year' 'WHO region' 'Country' 'Beverage Types' 'Display Value']\n",
      " ['1986' 'Western Pacific' 'Viet Nam' 'Wine' '0']\n",
      " ['1986' 'Americas' 'Uruguay' 'Other' '0.5']\n",
      " ['1985' 'Africa' \"Cte d'Ivoire\" 'Wine' '1.62']\n",
      " ['1986' 'Americas' 'Colombia' 'Beer' '4.27']\n",
      " ['1987' 'Americas' 'Saint Kitts and Nevis' 'Beer' '1.98']\n",
      " ['1987' 'Americas' 'Guatemala' 'Other' '0']\n",
      " ['1987' 'Africa' 'Mauritius' 'Wine' '0.13']\n",
      " ['1985' 'Africa' 'Angola' 'Spirits' '0.39']\n",
      " ['1986' 'Americas' 'Antigua and Barbuda' 'Spirits' '1.55']]\n"
     ]
    }
   ],
   "source": [
    "import numpy as np\n",
    "world_alcohol = np.genfromtxt(\"world_alcohol.csv\", delimiter=\",\", dtype = \"U75\")\n",
    "first_ten_years = world_alcohol[0:10,:]\n",
    "print(first_ten_years)"
   ]
  },
  {
   "cell_type": "code",
   "execution_count": 431,
   "id": "1a0c93e2",
   "metadata": {},
   "outputs": [
    {
     "name": "stdout",
     "output_type": "stream",
     "text": [
      "[['Year' 'WHO region' 'Country' 'Beverage Types' 'Display Value']\n",
      " ['1986' 'Western Pacific' 'Viet Nam' 'Wine' '0']\n",
      " ['1986' 'Americas' 'Uruguay' 'Other' '0.5']\n",
      " ['1985' 'Africa' \"Cte d'Ivoire\" 'Wine' '1.62']\n",
      " ['1986' 'Americas' 'Colombia' 'Beer' '4.27']\n",
      " ['1987' 'Americas' 'Saint Kitts and Nevis' 'Beer' '1.98']\n",
      " ['1987' 'Americas' 'Guatemala' 'Other' '0']\n",
      " ['1987' 'Africa' 'Mauritius' 'Wine' '0.13']\n",
      " ['1985' 'Africa' 'Angola' 'Spirits' '0.39']\n",
      " ['1986' 'Americas' 'Antigua and Barbuda' 'Spirits' '1.55']]\n"
     ]
    }
   ],
   "source": [
    "import numpy as np\n",
    "world_alcohol = np.genfromtxt(\"world_alcohol.csv\", delimiter=\",\", dtype = \"U75\")\n",
    "first_ten_rows = world_alcohol[0:10,:]\n",
    "print(first_ten_rows)"
   ]
  },
  {
   "cell_type": "code",
   "execution_count": 432,
   "id": "7613df86",
   "metadata": {},
   "outputs": [
    {
     "name": "stdout",
     "output_type": "stream",
     "text": [
      "[['Western Pacific' 'Viet Nam']\n",
      " ['Americas' 'Uruguay']\n",
      " ['Africa' \"Cte d'Ivoire\"]\n",
      " ['Americas' 'Colombia']\n",
      " ['Americas' 'Saint Kitts and Nevis']\n",
      " ['Americas' 'Guatemala']\n",
      " ['Africa' 'Mauritius']\n",
      " ['Africa' 'Angola']\n",
      " ['Americas' 'Antigua and Barbuda']\n",
      " ['Africa' 'Nigeria']\n",
      " ['Africa' 'Botswana']\n",
      " ['Americas' 'Guatemala']\n",
      " ['Western Pacific' \"Lao People's Democratic Republic\"]\n",
      " ['Eastern Mediterranean' 'Afghanistan']\n",
      " ['Western Pacific' 'Viet Nam']\n",
      " ['Africa' 'Guinea-Bissau']\n",
      " ['Americas' 'Costa Rica']\n",
      " ['Africa' 'Seychelles']\n",
      " ['Europe' 'Norway']\n",
      " ['Africa' 'Kenya']]\n"
     ]
    }
   ],
   "source": [
    "import numpy as np\n",
    "world_alcohol = np.genfromtxt(\"world_alcohol.csv\", delimiter=\",\", dtype = \"U75\",skip_header = 1)\n",
    "first_twenty_regions= world_alcohol[0:20,1:3]\n",
    "print(first_twenty_regions) "
   ]
  },
  {
   "cell_type": "code",
   "execution_count": 433,
   "id": "9f75b5a9",
   "metadata": {},
   "outputs": [
    {
     "data": {
      "text/plain": [
       "array([False, False,  True, False])"
      ]
     },
     "execution_count": 433,
     "metadata": {},
     "output_type": "execute_result"
    }
   ],
   "source": [
    "import numpy as np\n",
    "vector = np.array([10,20,25,50])\n",
    "vector == 25 #comparaison numpy"
   ]
  },
  {
   "cell_type": "code",
   "execution_count": 434,
   "id": "4be42eae",
   "metadata": {},
   "outputs": [],
   "source": [
    "matrix= np.array([[5,10,20],[25,30,35],[40,45,50]])"
   ]
  },
  {
   "cell_type": "code",
   "execution_count": 435,
   "id": "b6d098a3",
   "metadata": {},
   "outputs": [
    {
     "data": {
      "text/plain": [
       "array([[False, False, False],\n",
       "       [False, False, False],\n",
       "       [False, False,  True]])"
      ]
     },
     "execution_count": 435,
     "metadata": {},
     "output_type": "execute_result"
    }
   ],
   "source": [
    "matrix == 50"
   ]
  },
  {
   "cell_type": "code",
   "execution_count": 436,
   "id": "08172f0d",
   "metadata": {},
   "outputs": [
    {
     "data": {
      "text/plain": [
       "array([['1986', 'Western Pacific', 'Viet Nam', 'Wine', '0'],\n",
       "       ['1986', 'Americas', 'Uruguay', 'Other', '0.5'],\n",
       "       ['1985', 'Africa', \"Cte d'Ivoire\", 'Wine', '1.62'],\n",
       "       ...,\n",
       "       ['1986', 'Europe', 'Switzerland', 'Spirits', '2.54'],\n",
       "       ['1987', 'Western Pacific', 'Papua New Guinea', 'Other', '0'],\n",
       "       ['1986', 'Africa', 'Swaziland', 'Other', '5.15']], dtype='<U75')"
      ]
     },
     "execution_count": 436,
     "metadata": {},
     "output_type": "execute_result"
    }
   ],
   "source": [
    "world_alcohol = np.genfromtxt(\"world_alcohol.csv\", dtype =\"U75\", delimiter=\",\",skip_header=1)\n",
    "world_alcohol"
   ]
  },
  {
   "cell_type": "code",
   "execution_count": 437,
   "id": "eb4a0ec0",
   "metadata": {},
   "outputs": [
    {
     "data": {
      "text/plain": [
       "array(['Viet Nam', 'Uruguay', \"Cte d'Ivoire\", ..., 'Switzerland',\n",
       "       'Papua New Guinea', 'Swaziland'], dtype='<U75')"
      ]
     },
     "execution_count": 437,
     "metadata": {},
     "output_type": "execute_result"
    }
   ],
   "source": [
    "world_alcohol[:,2]"
   ]
  },
  {
   "cell_type": "code",
   "execution_count": 438,
   "id": "47d6252d",
   "metadata": {},
   "outputs": [
    {
     "data": {
      "text/plain": [
       "array([False, False, False, ..., False, False, False])"
      ]
     },
     "execution_count": 438,
     "metadata": {},
     "output_type": "execute_result"
    }
   ],
   "source": [
    "world_alcohol[:,2] == \"Canada\""
   ]
  },
  {
   "cell_type": "code",
   "execution_count": 439,
   "id": "5c4b20b3",
   "metadata": {},
   "outputs": [
    {
     "data": {
      "text/plain": [
       "array([False, False, False, ..., False, False, False])"
      ]
     },
     "execution_count": 439,
     "metadata": {},
     "output_type": "execute_result"
    }
   ],
   "source": [
    "counries_canada = (world_alcohol[:,2] == \"Canada\" )\n",
    "counries_canada"
   ]
  },
  {
   "cell_type": "code",
   "execution_count": 440,
   "id": "6b616882",
   "metadata": {},
   "outputs": [
    {
     "data": {
      "text/plain": [
       "array([False, False, False, ..., False, False, False])"
      ]
     },
     "execution_count": 440,
     "metadata": {},
     "output_type": "execute_result"
    }
   ],
   "source": [
    "years_1984 = (world_alcohol[:,0] == \"1984\")\n",
    "years_1984"
   ]
  },
  {
   "cell_type": "code",
   "execution_count": 441,
   "id": "995758f9",
   "metadata": {},
   "outputs": [
    {
     "name": "stdout",
     "output_type": "stream",
     "text": [
      "[10]\n"
     ]
    }
   ],
   "source": [
    "import numpy as np\n",
    "vector = np.array([5,10,15,20])\n",
    "equal_to_ten = (vector == 10) #retourne un vecteur de booleens\n",
    "print(vector[equal_to_ten])"
   ]
  },
  {
   "cell_type": "code",
   "execution_count": 442,
   "id": "b058ed88",
   "metadata": {},
   "outputs": [
    {
     "data": {
      "text/plain": [
       "array([[ 5, 10, 20],\n",
       "       [25, 30, 35],\n",
       "       [40, 45, 50]])"
      ]
     },
     "execution_count": 442,
     "metadata": {},
     "output_type": "execute_result"
    }
   ],
   "source": [
    "matrix= np.array([[5,10,20],[25,30,35],[40,45,50]])\n",
    "matrix"
   ]
  },
  {
   "cell_type": "code",
   "execution_count": 443,
   "id": "095e78c4",
   "metadata": {},
   "outputs": [
    {
     "name": "stdout",
     "output_type": "stream",
     "text": [
      "[[23 25 35]]\n"
     ]
    }
   ],
   "source": [
    "matrix= np.array([[5,10,20],[23,25,35],[40,45,50]])\n",
    "second_column_25 = (matrix[:,1] == 25)\n",
    "print(matrix[second_column_25,:])"
   ]
  },
  {
   "cell_type": "code",
   "execution_count": 444,
   "id": "ce484ea9",
   "metadata": {
    "scrolled": true
   },
   "outputs": [
    {
     "name": "stdout",
     "output_type": "stream",
     "text": [
      "[['1984' 'Africa' 'Algeria' 'Spirits' '0.01']\n",
      " ['1987' 'Africa' 'Algeria' 'Beer' '0.17']\n",
      " ['1987' 'Africa' 'Algeria' 'Spirits' '0.01']\n",
      " ['1986' 'Africa' 'Algeria' 'Wine' '0.1']\n",
      " ['1984' 'Africa' 'Algeria' 'Other' '0']\n",
      " ['1989' 'Africa' 'Algeria' 'Beer' '0.16']\n",
      " ['1989' 'Africa' 'Algeria' 'Spirits' '0.01']\n",
      " ['1989' 'Africa' 'Algeria' 'Wine' '0.23']\n",
      " ['1986' 'Africa' 'Algeria' 'Spirits' '0.01']\n",
      " ['1984' 'Africa' 'Algeria' 'Wine' '0.12']\n",
      " ['1985' 'Africa' 'Algeria' 'Beer' '0.19']\n",
      " ['1985' 'Africa' 'Algeria' 'Other' '0']\n",
      " ['1986' 'Africa' 'Algeria' 'Beer' '0.18']\n",
      " ['1985' 'Africa' 'Algeria' 'Wine' '0.11']\n",
      " ['1986' 'Africa' 'Algeria' 'Other' '0']\n",
      " ['1989' 'Africa' 'Algeria' 'Other' '0']\n",
      " ['1987' 'Africa' 'Algeria' 'Other' '0']\n",
      " ['1984' 'Africa' 'Algeria' 'Beer' '0.2']\n",
      " ['1985' 'Africa' 'Algeria' 'Spirits' '0.01']\n",
      " ['1987' 'Africa' 'Algeria' 'Wine' '0.1']]\n"
     ]
    }
   ],
   "source": [
    "import numpy as np\n",
    "world_alcohol = np.genfromtxt(\"world_alcohol.csv\", dtype =\"U75\", delimiter=\",\",skip_header=1)\n",
    "country_is_algeria = (world_alcohol[:,2] == \"Algeria\")\n",
    "country_algeria = world_alcohol[country_is_algeria]\n",
    "print(country_algeria)"
   ]
  },
  {
   "cell_type": "code",
   "execution_count": 445,
   "id": "31ba28b9",
   "metadata": {},
   "outputs": [],
   "source": [
    "#world_alcohol = np.genfromtxt(\"world_alcohol.csv\", dtype =\"U75\", delimiter=\",\" skip_header= 1)"
   ]
  },
  {
   "cell_type": "code",
   "execution_count": 446,
   "id": "35a2903d",
   "metadata": {
    "scrolled": true
   },
   "outputs": [
    {
     "name": "stdout",
     "output_type": "stream",
     "text": [
      "[['1986' 'Western Pacific' 'Viet Nam' 'Wine' '0']\n",
      " ['1986' 'Americas' 'Uruguay' 'Other' '0.5']\n",
      " ['1985' 'Africa' \"Cte d'Ivoire\" 'Wine' '1.62']\n",
      " ...\n",
      " ['1986' 'Europe' 'Switzerland' 'Spirits' '2.54']\n",
      " ['1987' 'Western Pacific' 'Papua New Guinea' 'Other' '0']\n",
      " ['1986' 'Africa' 'Swaziland' 'Other' '5.15']]\n"
     ]
    }
   ],
   "source": [
    "print(world_alcohol)"
   ]
  },
  {
   "cell_type": "code",
   "execution_count": 447,
   "id": "51526090",
   "metadata": {},
   "outputs": [
    {
     "name": "stdout",
     "output_type": "stream",
     "text": [
      "[['1984' 'Africa' 'Nigeria' 'Other' '6.1']\n",
      " ['1984' 'Eastern Mediterranean' 'Afghanistan' 'Other' '0']\n",
      " ['1984' 'Americas' 'Costa Rica' 'Wine' '0.06']\n",
      " ...\n",
      " ['1984' 'Europe' 'Latvia' 'Spirits' '7.5']\n",
      " ['1984' 'Africa' 'Angola' 'Wine' '0.57']\n",
      " ['1984' 'Africa' 'Central African Republic' 'Wine' '0.46']]\n"
     ]
    }
   ],
   "source": [
    "import numpy as np\n",
    "world_alcohol = np.genfromtxt(\"world_alcohol.csv\", dtype =\"U75\", delimiter=\",\",skip_header=1)\n",
    "years_1984 = (world_alcohol[:,0] == \"1984\")\n",
    "print(world_alcohol[years_1984])"
   ]
  },
  {
   "cell_type": "code",
   "execution_count": 448,
   "id": "b11032fc",
   "metadata": {},
   "outputs": [
    {
     "data": {
      "text/plain": [
       "array([ 5, 10, 20, 30, 40])"
      ]
     },
     "execution_count": 448,
     "metadata": {},
     "output_type": "execute_result"
    }
   ],
   "source": [
    "vector = np.array([5,10,20,30,40])\n",
    "vector "
   ]
  },
  {
   "cell_type": "code",
   "execution_count": 449,
   "id": "9430bcb0",
   "metadata": {},
   "outputs": [
    {
     "name": "stdout",
     "output_type": "stream",
     "text": [
      "[ True  True False False False]\n"
     ]
    }
   ],
   "source": [
    "equal_to_five_or_ten = (vector == 10) | (vector == 5)\n",
    "print(equal_to_five_or_ten)"
   ]
  },
  {
   "cell_type": "code",
   "execution_count": 450,
   "id": "4a6323b4",
   "metadata": {},
   "outputs": [
    {
     "name": "stdout",
     "output_type": "stream",
     "text": [
      "[['1986' 'Africa' 'Algeria' 'Wine' '0.1']\n",
      " ['1986' 'Africa' 'Algeria' 'Spirits' '0.01']\n",
      " ['1986' 'Africa' 'Algeria' 'Beer' '0.18']\n",
      " ['1986' 'Africa' 'Algeria' 'Other' '0']]\n"
     ]
    }
   ],
   "source": [
    "is_algeria_and_1986 = (world_alcohol[:,2] == \"Algeria\")  & (world_alcohol[:,0] == \"1986\")\n",
    "rows_with_algeria_and_1986 = world_alcohol[is_algeria_and_1986]\n",
    "print(rows_with_algeria_and_1986)"
   ]
  },
  {
   "cell_type": "code",
   "execution_count": 451,
   "id": "c4f484a9",
   "metadata": {},
   "outputs": [
    {
     "name": "stdout",
     "output_type": "stream",
     "text": [
      "[False  True  True False False]\n"
     ]
    }
   ],
   "source": [
    "vector = np.array([20,10,5,30,40])\n",
    "equal_to_five_or_ten = (vector == 10) | (vector == 5)\n",
    "print(equal_to_five_or_ten)"
   ]
  },
  {
   "cell_type": "code",
   "execution_count": 452,
   "id": "5356e339",
   "metadata": {},
   "outputs": [
    {
     "name": "stdout",
     "output_type": "stream",
     "text": [
      "[20 50 50 30 40]\n"
     ]
    }
   ],
   "source": [
    "vector[equal_to_five_or_ten] = 50\n",
    "print(vector)"
   ]
  },
  {
   "cell_type": "code",
   "execution_count": 453,
   "id": "8ecfcb66",
   "metadata": {},
   "outputs": [
    {
     "data": {
      "text/plain": [
       "array([[ 5, 10, 15],\n",
       "       [20, 25, 30],\n",
       "       [35, 40, 45]])"
      ]
     },
     "execution_count": 453,
     "metadata": {},
     "output_type": "execute_result"
    }
   ],
   "source": [
    "matrix = np.array([[5,10,15],[20,25,30],[35,40,45]])\n",
    "matrix"
   ]
  },
  {
   "cell_type": "code",
   "execution_count": 454,
   "id": "daf451e1",
   "metadata": {},
   "outputs": [
    {
     "name": "stdout",
     "output_type": "stream",
     "text": [
      "[False  True False]\n"
     ]
    }
   ],
   "source": [
    "second_column_25 = matrix[:,1] == 25 \n",
    "print(second_column_25)"
   ]
  },
  {
   "cell_type": "code",
   "execution_count": 455,
   "id": "ea86f5e5",
   "metadata": {},
   "outputs": [
    {
     "name": "stdout",
     "output_type": "stream",
     "text": [
      "[[ 5 10 15]\n",
      " [10 10 10]\n",
      " [35 40 45]]\n"
     ]
    }
   ],
   "source": [
    "matrix[second_column_25] = 10\n",
    "print(matrix)"
   ]
  },
  {
   "cell_type": "code",
   "execution_count": 456,
   "id": "2f0a4ef4",
   "metadata": {},
   "outputs": [],
   "source": [
    "world_alcohol = np.genfromtxt(\"world_alcohol.csv\", dtype =\"U75\", delimiter=\",\",skip_header=1)\n",
    "world_alcohoh_2 = world_alcohol"
   ]
  },
  {
   "cell_type": "code",
   "execution_count": 457,
   "id": "d9d10923",
   "metadata": {},
   "outputs": [
    {
     "name": "stdout",
     "output_type": "stream",
     "text": [
      "[['Year' 'WHO region' 'Country' 'Beverage Types' 'Display Value']\n",
      " ['2018' 'Western Pacific' 'Viet Nam' 'Wine' '0']\n",
      " ['2018' 'Americas' 'Uruguay' 'Other' '0.5']\n",
      " ...\n",
      " ['2018' 'Europe' 'Switzerland' 'Spirits' '2.54']\n",
      " ['1987' 'Western Pacific' 'Papua New Guinea' 'Other' '0']\n",
      " ['2018' 'Africa' 'Swaziland' 'Other' '5.15']]\n"
     ]
    }
   ],
   "source": [
    "import numpy as np\n",
    "world_alcohol = np.genfromtxt(\"world_alcohol.csv\", dtype =\"U75\", delimiter=\",\")\n",
    "world_alcohol_2 = world_alcohol\n",
    "years_1986 = world_alcohol_2[:,0] == '1986'\n",
    "world_alcohol_2[years_1986,0] = '2018'\n",
    "print(world_alcohol_2)\n"
   ]
  },
  {
   "cell_type": "code",
   "execution_count": 458,
   "id": "1db4352b",
   "metadata": {},
   "outputs": [
    {
     "name": "stdout",
     "output_type": "stream",
     "text": [
      "[['1985' 'Africa' 'Cameroon' 'Spirits' '0.01']\n",
      " ['1984' 'Africa' 'Cameroon' 'Wine' '0.08']\n",
      " ['2018' 'Africa' 'Cameroon' 'Wine' '0.08']\n",
      " ['1987' 'Africa' 'Cameroon' 'Other' '3.97']\n",
      " ['2018' 'Africa' 'Cameroon' 'Beer' '2.45']\n",
      " ['1989' 'Africa' 'Cameroon' 'Other' '4.08']\n",
      " ['1987' 'Africa' 'Cameroon' 'Spirits' '0.02']\n",
      " ['1985' 'Africa' 'Cameroon' 'Wine' '0.09']\n",
      " ['1985' 'Africa' 'Cameroon' 'Other' '3.61']\n",
      " ['2018' 'Africa' 'Cameroon' 'Other' '3.96']\n",
      " ['1984' 'Africa' 'Cameroon' 'Spirits' '0.01']\n",
      " ['1987' 'Africa' 'Cameroon' 'Beer' '2.39']\n",
      " ['1989' 'Africa' 'Cameroon' 'Beer' '2.11']\n",
      " ['1989' 'Africa' 'Cameroon' 'Wine' '0.13']\n",
      " ['2018' 'Africa' 'Cameroon' 'Spirits' '0.01']\n",
      " ['1989' 'Africa' 'Cameroon' 'Spirits' '0.04']\n",
      " ['1985' 'Africa' 'Cameroon' 'Beer' '2.5']\n",
      " ['1984' 'Africa' 'Cameroon' 'Other' '3.55']\n",
      " ['1987' 'Africa' 'Cameroon' 'Wine' '0.12']\n",
      " ['1984' 'Africa' 'Cameroon' 'Beer' '2.33']]\n"
     ]
    }
   ],
   "source": [
    "country = world_alcohol_2[:,2] == 'Cameroon'\n",
    "print(world_alcohol_2[country])"
   ]
  },
  {
   "cell_type": "code",
   "execution_count": 515,
   "id": "3f26e2ab",
   "metadata": {},
   "outputs": [
    {
     "name": "stdout",
     "output_type": "stream",
     "text": [
      "[['Year' 'WHO region' 'Country' 'Beverage Types' 'Display Value']\n",
      " ['1986' 'Western Pacific' 'Viet Nam' 'Wine' '0']\n",
      " ['1986' 'Americas' 'Uruguay' 'Other' '0.5']\n",
      " ...\n",
      " ['1986' 'Europe' 'Switzerland' 'Spirits' '2.54']\n",
      " ['1987' 'Western Pacific' 'Papua New Guinea' 'Other' '0']\n",
      " ['1986' 'Africa' 'Swaziland' 'Other' '5.15']]\n"
     ]
    }
   ],
   "source": [
    "is_value_empty = world_alcohol[:,4] == ''\n",
    "world_alcohol[is_value_empty, 4] = '0'\n",
    "print(world_alcohol)"
   ]
  },
  {
   "cell_type": "code",
   "execution_count": 510,
   "id": "85c47e91",
   "metadata": {},
   "outputs": [
    {
     "data": {
      "text/plain": [
       "array([ 5., 10., 20.])"
      ]
     },
     "execution_count": 510,
     "metadata": {},
     "output_type": "execute_result"
    }
   ],
   "source": [
    "vector = np.array([\"5\",\"10\",\"20\"])\n",
    "vector = vector.astype(float)\n",
    "vector"
   ]
  },
  {
   "cell_type": "code",
   "execution_count": 533,
   "id": "495f8107",
   "metadata": {},
   "outputs": [],
   "source": [
    "#alcohol_consumption = world_alcohol[:,4]\n",
    "#alcohol_consumption = alcohol_consumption.astype(float)\n",
    "#print(alcohol_consumption)"
   ]
  },
  {
   "cell_type": "code",
   "execution_count": 503,
   "id": "96599119",
   "metadata": {},
   "outputs": [
    {
     "data": {
      "text/plain": [
       "65"
      ]
     },
     "execution_count": 503,
     "metadata": {},
     "output_type": "execute_result"
    }
   ],
   "source": [
    "vector = np.array([5,10,20,30])\n",
    "vector.sum()             "
   ]
  },
  {
   "cell_type": "code",
   "execution_count": 473,
   "id": "4b7734b2",
   "metadata": {},
   "outputs": [
    {
     "data": {
      "text/plain": [
       "16.25"
      ]
     },
     "execution_count": 473,
     "metadata": {},
     "output_type": "execute_result"
    }
   ],
   "source": [
    "vector.mean()"
   ]
  },
  {
   "cell_type": "code",
   "execution_count": 474,
   "id": "f22a3c79",
   "metadata": {},
   "outputs": [
    {
     "data": {
      "text/plain": [
       "30"
      ]
     },
     "execution_count": 474,
     "metadata": {},
     "output_type": "execute_result"
    }
   ],
   "source": [
    "vector.max()"
   ]
  },
  {
   "cell_type": "code",
   "execution_count": 475,
   "id": "b2306442",
   "metadata": {},
   "outputs": [
    {
     "name": "stdout",
     "output_type": "stream",
     "text": [
      "[[ 5 10 15]\n",
      " [20 25 30]\n",
      " [35 40 45]]\n"
     ]
    },
    {
     "data": {
      "text/plain": [
       "array([ 30,  75, 120])"
      ]
     },
     "execution_count": 475,
     "metadata": {},
     "output_type": "execute_result"
    }
   ],
   "source": [
    "matrix = np.array([[5,10,15],[20,25,30],[35,40,45]])\n",
    "print(matrix)\n",
    "matrix.sum(axis=1)"
   ]
  },
  {
   "cell_type": "code",
   "execution_count": 476,
   "id": "13a817ff",
   "metadata": {},
   "outputs": [
    {
     "data": {
      "text/plain": [
       "array([60, 75, 90])"
      ]
     },
     "execution_count": 476,
     "metadata": {},
     "output_type": "execute_result"
    }
   ],
   "source": [
    "matrix.sum(axis=0)"
   ]
  },
  {
   "cell_type": "code",
   "execution_count": 531,
   "id": "75a3bfbf",
   "metadata": {},
   "outputs": [],
   "source": [
    "#total_alcohol = alcohol_consumption.sum()\n",
    "#total_alcohol"
   ]
  },
  {
   "cell_type": "code",
   "execution_count": 532,
   "id": "cdcd7d86",
   "metadata": {},
   "outputs": [],
   "source": [
    "#average_alcohol_consumption = alcohol_consumption.mean()\n",
    "#print(average_alcohol_consumption)"
   ]
  },
  {
   "cell_type": "code",
   "execution_count": 479,
   "id": "28269afa",
   "metadata": {},
   "outputs": [
    {
     "name": "stdout",
     "output_type": "stream",
     "text": [
      "[['1986' 'Americas' 'Canada' 'Other' '']\n",
      " ['1986' 'Americas' 'Canada' 'Spirits' '3.11']\n",
      " ['1986' 'Americas' 'Canada' 'Beer' '4.87']\n",
      " ['1986' 'Americas' 'Canada' 'Wine' '1.33']]\n"
     ]
    }
   ],
   "source": [
    "import numpy as np\n",
    "world_alcohol = np.genfromtxt(\"world_alcohol.csv\", dtype =\"U75\", delimiter=\",\")\n",
    "canada_1986 = (world_alcohol[:,0] == \"1986\") & (world_alcohol[:,2] == \"Canada\")                   \n",
    "canada_1986 = world_alcohol[canada_1986]\n",
    "print(canada_1986)"
   ]
  },
  {
   "cell_type": "code",
   "execution_count": 534,
   "id": "51d2d693",
   "metadata": {},
   "outputs": [
    {
     "name": "stdout",
     "output_type": "stream",
     "text": [
      "['0' '3.11' '4.87' '1.33']\n"
     ]
    }
   ],
   "source": [
    "canada_alcohol = canada_1986[:,4]\n",
    "print(canada_alcohol)"
   ]
  },
  {
   "cell_type": "code",
   "execution_count": null,
   "id": "60d24423",
   "metadata": {},
   "outputs": [],
   "source": []
  },
  {
   "cell_type": "code",
   "execution_count": 535,
   "id": "7a925bbd",
   "metadata": {
    "scrolled": true
   },
   "outputs": [
    {
     "name": "stdout",
     "output_type": "stream",
     "text": [
      "[0.   3.11 4.87 1.33]\n"
     ]
    }
   ],
   "source": [
    "canada_alcohol = canada_alcohol.astype(float)\n",
    "print(canada_alcohol)"
   ]
  },
  {
   "cell_type": "code",
   "execution_count": 483,
   "id": "08e0bf0d",
   "metadata": {
    "scrolled": true
   },
   "outputs": [
    {
     "name": "stdout",
     "output_type": "stream",
     "text": [
      "9.31\n"
     ]
    }
   ],
   "source": [
    "canada_alcohol = canada_alcohol.astype(float)\n",
    "total_canada_drinking = canada_alcohol.sum()\n",
    "print(total_canada_drinking)"
   ]
  },
  {
   "cell_type": "code",
   "execution_count": 484,
   "id": "1b779dca",
   "metadata": {},
   "outputs": [],
   "source": [
    "totals = {}\n",
    "is_year = world_alcohol[:,0] == \"1989\"\n",
    "year = world_alcohol[is_year,:]\n",
    "countries = world_alcohol[:,2]\n",
    "#print(year / countries)"
   ]
  },
  {
   "cell_type": "code",
   "execution_count": 485,
   "id": "491dad85",
   "metadata": {},
   "outputs": [
    {
     "name": "stdout",
     "output_type": "stream",
     "text": [
      "{'Country': 0.0, 'Viet Nam': 0.16, 'Uruguay': 7.4399999999999995, \"Cte d'Ivoire\": 2.2, 'Colombia': 6.960000000000001, 'Saint Kitts and Nevis': 4.65, 'Guatemala': 2.47, 'Mauritius': 3.54, 'Angola': 2.28, 'Antigua and Barbuda': 4.69, 'Nigeria': 6.74, 'Botswana': 4.63, \"Lao People's Democratic Republic\": 5.95, 'Afghanistan': 0.0, 'Guinea-Bissau': 2.67, 'Costa Rica': 5.3999999999999995, 'Seychelles': 3.3000000000000003, 'Norway': 5.08, 'Kenya': 2.82, 'Myanmar': 0.16, 'Romania': 8.41, 'Turkey': 0.72, 'Comoros': 0.10999999999999999, 'Tunisia': 0.95, 'United Kingdom of Great Britain and Northern Ireland': 9.99, 'Bahrain': 4.89, 'Italy': 10.899999999999999, 'Sierra Leone': 4.380000000000001, 'Micronesia (Federated States of)': 0.0, 'Mauritania': 0.02, 'Russian Federation': 5.35, 'Egypt': 0.42000000000000004, 'Sweden': 7.47, 'Qatar': 1.4500000000000002, 'Burkina Faso': 3.99, 'Austria': 13.9, 'Czech Republic': 13.009999999999998, 'Ukraine': 5.32, 'China': 3.33, 'Lithuania': 0.0, 'Zimbabwe': 4.92, 'Trinidad and Tobago': 4.68, 'Mexico': 5.1, 'Nicaragua': 2.5, 'Malta': 7.13, 'Switzerland': 13.849999999999998, 'Finland': 9.419999999999998, 'Saudi Arabia': 0.15, 'Kuwait': 0.0, 'El Salvador': 1.77, 'Suriname': 3.67, 'Croatia': 10.92, 'Somalia': 0.0, 'Syrian Arab Republic': 0.54, 'Iran (Islamic Republic of)': 0.0, 'Papua New Guinea': 1.1099999999999999, 'Libya': 0.0, 'Bolivia (Plurinational State of)': 3.05, 'Iraq': 0.75, 'Namibia': 0.24, 'Uganda': 7.8, 'Togo': 2.2199999999999998, 'Madagascar': 1.38, 'Mali': 0.6699999999999999, 'Pakistan': 0.02, 'Cameroon': 6.359999999999999, 'Jamaica': 3.03, 'Malawi': 1.02, 'Netherlands': 10.030000000000001, 'Ireland': 11.79, 'Sri Lanka': 0.14, 'Democratic Republic of the Congo': 1.92, 'Bahamas': 12.290000000000001, 'Lebanon': 3.94, 'Bulgaria': 11.43, 'Eritrea': 0.29, 'Niger': 0.11, 'Luxembourg': 15.21, 'Indonesia': 0.07, 'Equatorial Guinea': 6.49, \"Democratic People's Republic of Korea\": 3.6799999999999997, 'Chile': 8.649999999999999, 'Central African Republic': 2.5199999999999996, 'Spain': 13.280000000000001, 'Gambia': 1.6300000000000001, 'Ghana': 1.8599999999999999, 'Brazil': 5.52, 'Portugal': 15.350000000000001, 'Burundi': 8.159999999999998, 'Belgium': 11.61, 'Paraguay': 6.51, 'Hungary': 16.29, 'Greece': 10.15, 'India': 1.66, 'Kyrgyzstan': 4.279999999999999, 'France': 16.05, 'Zambia': 3.37, 'Israel': 2.0300000000000002, 'Swaziland': 6.68, 'Canada': 9.0, 'Cambodia': 0.33, 'Cabo Verde': 2.79, 'United Arab Emirates': 4.43, 'Peru': 4.99, 'Solomon Islands': 0.5800000000000001, 'United Republic of Tanzania': 5.9, 'Chad': 0.30000000000000004, 'Cuba': 4.37, 'Guyana': 9.940000000000001, 'Mongolia': 2.59, 'Australia': 12.09, 'Sao Tome and Principe': 2.57, 'Slovenia': 12.969999999999999, 'Benin': 1.3800000000000001, 'Algeria': 0.4, 'Venezuela (Bolivarian Republic of)': 7.87, 'Ecuador': 2.54, 'Iceland': 5.359999999999999, 'Liberia': 5.61, 'Yemen': 0.2, 'Sudan': 0.15, 'Belarus': 7.9799999999999995, 'Cyprus': 9.29, 'United States of America': 9.16, 'Vanuatu': 1.74, 'Bangladesh': 0.0, 'Philippines': 3.78, 'Slovakia': 12.700000000000001, 'Poland': 9.33, 'Senegal': 0.6100000000000001, 'Honduras': 2.15, 'Bhutan': 0.31, 'Fiji': 1.9600000000000002, 'Belize': 0.0, 'Lesotho': 2.02, 'Singapore': 1.61, 'Guinea': 0.21, 'Brunei Darussalam': 2.7800000000000002, 'Congo': 3.1500000000000004, 'Thailand': 3.92, 'Djibouti': 0.87, 'Gabon': 9.34, 'Dominican Republic': 4.53, 'Morocco': 0.7, 'New Zealand': 11.52, 'Denmark': 11.649999999999999, 'Samoa': 2.63, 'Argentina': 10.82, 'Oman': 1.03, 'Kiribati': 0.48, 'Albania': 1.73, 'Nepal': 0.03, 'Malaysia': 0.68, 'Latvia': 7.039999999999999, 'Haiti': 5.81, 'South Africa': 9.21, 'Republic of Korea': 9.620000000000001, 'Japan': 7.74, 'Mozambique': 0.39, 'Ethiopia': 0.8600000000000001, 'Panama': 4.6000000000000005, 'Germany': 14.64, 'Saint Lucia': 11.62, 'Rwanda': 7.549999999999999, 'Jordan': 0.19}\n"
     ]
    }
   ],
   "source": [
    "for country in countries: \n",
    "    is_country = year[:,2] == country\n",
    "    country_consumption = year[is_country,:]\n",
    "    alcohol_column = country_consumption[:,4]\n",
    "    is_empty = alcohol_column == ''\n",
    "    alcohol_column[is_empty] = \"0\"\n",
    "    alcohol_column = alcohol_column.astype(float)\n",
    "    totals[country] = alcohol_column.sum()\n",
    "    \n",
    "print(totals)\n",
    "\n",
    "    \n",
    "    \n",
    "    \n",
    "    \n",
    "    \n",
    "    \n",
    "    \n",
    "    \n",
    "    \n",
    "    \n",
    "    \n",
    "    \n",
    "    \n",
    "    \n",
    "    \n",
    "    "
   ]
  },
  {
   "cell_type": "code",
   "execution_count": 498,
   "id": "96d1d687",
   "metadata": {},
   "outputs": [
    {
     "name": "stdout",
     "output_type": "stream",
     "text": [
      "[['Year' 'WHO region' 'Country' 'Beverage Types' 'Display Value']\n",
      " ['1986' 'Western Pacific' 'Viet Nam' 'Wine' '0']\n",
      " ['1986' 'Americas' 'Uruguay' 'Other' '0.5']\n",
      " ...\n",
      " ['1986' 'Europe' 'Switzerland' 'Spirits' '2.54']\n",
      " ['1987' 'Western Pacific' 'Papua New Guinea' 'Other' '0']\n",
      " ['1986' 'Africa' 'Swaziland' 'Other' '5.15']]\n"
     ]
    }
   ],
   "source": []
  },
  {
   "cell_type": "code",
   "execution_count": null,
   "id": "5aef590b",
   "metadata": {},
   "outputs": [],
   "source": []
  },
  {
   "cell_type": "code",
   "execution_count": null,
   "id": "ce4e3f30",
   "metadata": {},
   "outputs": [],
   "source": []
  },
  {
   "cell_type": "code",
   "execution_count": null,
   "id": "e049f5fc",
   "metadata": {},
   "outputs": [],
   "source": []
  },
  {
   "cell_type": "code",
   "execution_count": null,
   "id": "c63e3698",
   "metadata": {},
   "outputs": [],
   "source": []
  },
  {
   "cell_type": "code",
   "execution_count": null,
   "id": "c6eb486f",
   "metadata": {},
   "outputs": [],
   "source": []
  },
  {
   "cell_type": "code",
   "execution_count": null,
   "id": "99788638",
   "metadata": {},
   "outputs": [],
   "source": []
  },
  {
   "cell_type": "code",
   "execution_count": null,
   "id": "56173521",
   "metadata": {},
   "outputs": [],
   "source": []
  },
  {
   "cell_type": "code",
   "execution_count": null,
   "id": "c4cfcc3b",
   "metadata": {},
   "outputs": [],
   "source": []
  },
  {
   "cell_type": "code",
   "execution_count": null,
   "id": "ee2edab3",
   "metadata": {},
   "outputs": [],
   "source": []
  },
  {
   "cell_type": "code",
   "execution_count": null,
   "id": "40caf550",
   "metadata": {},
   "outputs": [],
   "source": []
  },
  {
   "cell_type": "code",
   "execution_count": null,
   "id": "309c00b9",
   "metadata": {},
   "outputs": [],
   "source": []
  },
  {
   "cell_type": "code",
   "execution_count": null,
   "id": "eeb58e5e",
   "metadata": {},
   "outputs": [],
   "source": []
  },
  {
   "cell_type": "code",
   "execution_count": null,
   "id": "02f4a28a",
   "metadata": {},
   "outputs": [],
   "source": []
  }
 ],
 "metadata": {
  "kernelspec": {
   "display_name": "Python 3 (ipykernel)",
   "language": "python",
   "name": "python3"
  },
  "language_info": {
   "codemirror_mode": {
    "name": "ipython",
    "version": 3
   },
   "file_extension": ".py",
   "mimetype": "text/x-python",
   "name": "python",
   "nbconvert_exporter": "python",
   "pygments_lexer": "ipython3",
   "version": "3.9.13"
  }
 },
 "nbformat": 4,
 "nbformat_minor": 5
}
