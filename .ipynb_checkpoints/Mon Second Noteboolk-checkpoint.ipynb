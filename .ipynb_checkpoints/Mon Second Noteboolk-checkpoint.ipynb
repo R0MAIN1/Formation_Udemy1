{
 "cells": [
  {
   "cell_type": "code",
   "execution_count": 1,
   "id": "2b731952",
   "metadata": {},
   "outputs": [],
   "source": [
    "import numpy as np"
   ]
  },
  {
   "cell_type": "code",
   "execution_count": 2,
   "id": "cf933103",
   "metadata": {},
   "outputs": [],
   "source": [
    "vector = np.array([2,6,8])"
   ]
  },
  {
   "cell_type": "code",
   "execution_count": 31,
   "id": "53ec10f0",
   "metadata": {},
   "outputs": [
    {
     "name": "stdout",
     "output_type": "stream",
     "text": [
      "(3,)\n"
     ]
    }
   ],
   "source": [
    "print(vector.shape)"
   ]
  },
  {
   "cell_type": "code",
   "execution_count": 4,
   "id": "0c8d6fd4",
   "metadata": {},
   "outputs": [
    {
     "name": "stdout",
     "output_type": "stream",
     "text": [
      "(3, 3)\n"
     ]
    }
   ],
   "source": [
    "print(matrix.shape)"
   ]
  },
  {
   "cell_type": "code",
   "execution_count": 99,
   "id": "4ccd3b63",
   "metadata": {},
   "outputs": [],
   "source": [
    "matrix = np.array([[10,20,30],[70,80,90],[110,120,130],[170,180,200]])"
   ]
  },
  {
   "cell_type": "code",
   "execution_count": 6,
   "id": "cc292727",
   "metadata": {},
   "outputs": [
    {
     "name": "stdout",
     "output_type": "stream",
     "text": [
      "(4, 3)\n"
     ]
    }
   ],
   "source": [
    "print(matrix.shape)"
   ]
  },
  {
   "cell_type": "code",
   "execution_count": 23,
   "id": "35fd5037",
   "metadata": {},
   "outputs": [
    {
     "name": "stdout",
     "output_type": "stream",
     "text": [
      "(3,)\n",
      "(4, 3)\n"
     ]
    }
   ],
   "source": [
    "import numpy as np \n",
    "vector = np.array([2,6,8])\n",
    "matrix = np.array([[10,20,30],[70,80,90],[110,120,130],[170,180,200]])\n",
    "\n",
    "vector_shape = vector.shape\n",
    "matrix_shape = matrix.shape\n",
    "\n",
    "print(vector_shape)\n",
    "print(matrix_shape)"
   ]
  },
  {
   "cell_type": "code",
   "execution_count": 8,
   "id": "f3c0978a",
   "metadata": {},
   "outputs": [
    {
     "name": "stdout",
     "output_type": "stream",
     "text": [
      "(3,)\n",
      "(4, 3)\n"
     ]
    }
   ],
   "source": [
    "import numpy as np \n",
    "vector = np.array([2,6,8])\n",
    "matrix = np.array([[10,20,30],[70,80,90],[110,120,130],[170,180,200]])\n",
    "\n",
    "vector_shape = vector.shape\n",
    "matrix_shape = matrix.shape\n",
    "\n",
    "print(vector_shape)\n",
    "print(matrix_shape)"
   ]
  },
  {
   "cell_type": "code",
   "execution_count": 21,
   "id": "2e55613d",
   "metadata": {},
   "outputs": [
    {
     "name": "stdout",
     "output_type": "stream",
     "text": [
      "float64\n"
     ]
    }
   ],
   "source": [
    "import numpy as np \n",
    "world_alcohol = np.genfromtxt(\"world_alcohol.csv\", delimiter=\",\")\n",
    "print(fichier_csv.dtype)"
   ]
  },
  {
   "cell_type": "code",
   "execution_count": 22,
   "id": "0de88bdc",
   "metadata": {},
   "outputs": [],
   "source": [
    "import numpy as np \n",
    "world_alcohol = np.genfromtxt(\"world_alcohol.csv\", delimiter=\",\")\n",
    "world_alcohol_dtype = world_alcohol.dtype"
   ]
  },
  {
   "cell_type": "code",
   "execution_count": 20,
   "id": "149d7a9c",
   "metadata": {},
   "outputs": [
    {
     "name": "stdout",
     "output_type": "stream",
     "text": [
      "float64\n"
     ]
    }
   ],
   "source": [
    "import numpy as np \n",
    "world_alcohol = np.genfromtxt(\"world_alcohol.csv\", delimiter=\",\")\n",
    "world_alcohol_dtype = world_alcohol.dtype\n",
    "print(world_alcohol_dtpye)"
   ]
  },
  {
   "cell_type": "code",
   "execution_count": 29,
   "id": "c61119fb",
   "metadata": {},
   "outputs": [
    {
     "name": "stdout",
     "output_type": "stream",
     "text": [
      "[['1986' 'Western Pacific' 'Viet Nam' 'Wine' '0']\n",
      " ['1986' 'Americas' 'Uruguay' 'Other' '0.5']\n",
      " ['1985' 'Africa' \"Cte d'Ivoire\" 'Wine' '1.62']\n",
      " ...\n",
      " ['1986' 'Europe' 'Switzerland' 'Spirits' '2.54']\n",
      " ['1987' 'Western Pacific' 'Papua New Guinea' 'Other' '0']\n",
      " ['1986' 'Africa' 'Swaziland' 'Other' '5.15']]\n"
     ]
    }
   ],
   "source": [
    "import numpy as np \n",
    "world_alcohol = np.genfromtxt(\"world_alcohol.csv\", delimiter=\",\", dtype = \"U75\",skip_header=1 )\n",
    "print(world_alcohol)"
   ]
  },
  {
   "cell_type": "code",
   "execution_count": 13,
   "id": "2774d21c",
   "metadata": {},
   "outputs": [
    {
     "name": "stdout",
     "output_type": "stream",
     "text": [
      "20\n"
     ]
    }
   ],
   "source": [
    "vector = np.array([10,20,30])\n",
    "print(vector[1])"
   ]
  },
  {
   "cell_type": "code",
   "execution_count": 47,
   "id": "da0b5c72",
   "metadata": {},
   "outputs": [
    {
     "data": {
      "text/plain": [
       "70"
      ]
     },
     "execution_count": 47,
     "metadata": {},
     "output_type": "execute_result"
    }
   ],
   "source": [
    "import numpy as np\n",
    "matrix = np.array([[50,60,70],[80,90,100]])\n",
    "matrix[0,2]  \n"
   ]
  },
  {
   "cell_type": "code",
   "execution_count": 45,
   "id": "a1e81f56",
   "metadata": {},
   "outputs": [
    {
     "data": {
      "text/plain": [
       "70"
      ]
     },
     "execution_count": 45,
     "metadata": {},
     "output_type": "execute_result"
    }
   ],
   "source": [
    "import numpy as np\n",
    "matrix = np.array([[50,60,70],[80,90,100]])\n",
    "matrix[0,2]  "
   ]
  },
  {
   "cell_type": "code",
   "execution_count": 48,
   "id": "c111c76b",
   "metadata": {},
   "outputs": [
    {
     "data": {
      "text/plain": [
       "70"
      ]
     },
     "execution_count": 48,
     "metadata": {},
     "output_type": "execute_result"
    }
   ],
   "source": [
    "list_of_lists = [[50,60,70],[80,90,100]]\n",
    "list_of_lists[0][2]"
   ]
  },
  {
   "cell_type": "code",
   "execution_count": null,
   "id": "9cc25238",
   "metadata": {},
   "outputs": [],
   "source": [
    "import numpy as np\n",
    "world_alcohol = np.genfromtxt(\"world_alcohol.csv\", delimiter=\",\", dtype = \"U75\",skip_header = 1)\n",
    "ivoire_1985 = world_alcohol[2,4]\n",
    "print(ivoire_1985)\n"
   ]
  },
  {
   "cell_type": "code",
   "execution_count": 54,
   "id": "f8324a8e",
   "metadata": {},
   "outputs": [
    {
     "name": "stdout",
     "output_type": "stream",
     "text": [
      "Uruguay\n"
     ]
    }
   ],
   "source": [
    "import numpy as np \n",
    "world_alcohol = np.genfromtxt(\"world_alcohol.csv\", delimiter=\",\", dtype = \"U75\",skip_header = 1)\n",
    "second_country = world_alcohol[1,2]\n",
    "print(second_country)"
   ]
  },
  {
   "cell_type": "markdown",
   "id": "b630d5c0",
   "metadata": {},
   "source": [
    "           ##EXTRAIRE UN VECTEUR DE VALEUR DEPUIS UN TABLEAU NUMPY "
   ]
  },
  {
   "cell_type": "code",
   "execution_count": 61,
   "id": "0089c6b5",
   "metadata": {},
   "outputs": [
    {
     "data": {
      "text/plain": [
       "array([20, 30])"
      ]
     },
     "execution_count": 61,
     "metadata": {},
     "output_type": "execute_result"
    }
   ],
   "source": [
    "import numpy as np \n",
    "vector = np.array([10,20,30,40])\n",
    "vector[1:3]"
   ]
  },
  {
   "cell_type": "code",
   "execution_count": 62,
   "id": "6219d6aa",
   "metadata": {
    "scrolled": true
   },
   "outputs": [
    {
     "name": "stdout",
     "output_type": "stream",
     "text": [
      "[[ 50  60  70]\n",
      " [ 80  90 100]\n",
      " [110 120 130]]\n"
     ]
    }
   ],
   "source": [
    "matrix = np.array([[50,60,70],[80,90,100],[110,120,130]])\n",
    "print(matrix)"
   ]
  },
  {
   "cell_type": "code",
   "execution_count": 83,
   "id": "9c69e158",
   "metadata": {},
   "outputs": [
    {
     "data": {
      "text/plain": [
       "array([ 60,  90, 120])"
      ]
     },
     "execution_count": 83,
     "metadata": {},
     "output_type": "execute_result"
    }
   ],
   "source": [
    "matrix[:,1] #affiche tous les élements d'une colonne "
   ]
  },
  {
   "cell_type": "code",
   "execution_count": 84,
   "id": "124f5355",
   "metadata": {},
   "outputs": [
    {
     "data": {
      "text/plain": [
       "array([110, 120, 130])"
      ]
     },
     "execution_count": 84,
     "metadata": {},
     "output_type": "execute_result"
    }
   ],
   "source": [
    "matrix[2,:] # afficher tous les élements d'une ligne "
   ]
  },
  {
   "cell_type": "code",
   "execution_count": 85,
   "id": "3ac0daeb",
   "metadata": {},
   "outputs": [
    {
     "data": {
      "text/plain": [
       "array([ 80,  90, 100])"
      ]
     },
     "execution_count": 85,
     "metadata": {},
     "output_type": "execute_result"
    }
   ],
   "source": [
    "matrix[1,:] #affiche tous les élements d'une ligne "
   ]
  },
  {
   "cell_type": "code",
   "execution_count": 86,
   "id": "bc74e8bf",
   "metadata": {},
   "outputs": [
    {
     "data": {
      "text/plain": [
       "array([ 50,  80, 110])"
      ]
     },
     "execution_count": 86,
     "metadata": {},
     "output_type": "execute_result"
    }
   ],
   "source": [
    "matrix[:,0] #affiche les éléments d'une colonne      "
   ]
  },
  {
   "cell_type": "code",
   "execution_count": 87,
   "id": "38d0e319",
   "metadata": {},
   "outputs": [
    {
     "data": {
      "text/plain": [
       "array([50, 60, 70])"
      ]
     },
     "execution_count": 87,
     "metadata": {},
     "output_type": "execute_result"
    }
   ],
   "source": [
    "matrix[0,:]"
   ]
  },
  {
   "cell_type": "code",
   "execution_count": 88,
   "id": "9b7745e6",
   "metadata": {},
   "outputs": [
    {
     "data": {
      "text/plain": [
       "array([ 70, 100, 130])"
      ]
     },
     "execution_count": 88,
     "metadata": {},
     "output_type": "execute_result"
    }
   ],
   "source": [
    "matrix[:,2]"
   ]
  },
  {
   "cell_type": "code",
   "execution_count": 89,
   "id": "f32cb2ef",
   "metadata": {},
   "outputs": [
    {
     "data": {
      "text/plain": [
       "array([[ 80,  90, 100]])"
      ]
     },
     "execution_count": 89,
     "metadata": {},
     "output_type": "execute_result"
    }
   ],
   "source": [
    "matrix[1:2]"
   ]
  },
  {
   "cell_type": "code",
   "execution_count": 90,
   "id": "8335176a",
   "metadata": {},
   "outputs": [
    {
     "data": {
      "text/plain": [
       "array([ 90, 120])"
      ]
     },
     "execution_count": 90,
     "metadata": {},
     "output_type": "execute_result"
    }
   ],
   "source": [
    ".matrix[1:3,1]"
   ]
  },
  {
   "cell_type": "code",
   "execution_count": 95,
   "id": "22270391",
   "metadata": {},
   "outputs": [
    {
     "name": "stdout",
     "output_type": "stream",
     "text": [
      "[['Year' 'WHO region' 'Country' 'Beverage Types' 'Display Value']\n",
      " ['1986' 'Western Pacific' 'Viet Nam' 'Wine' '0']\n",
      " ['1986' 'Americas' 'Uruguay' 'Other' '0.5']\n",
      " ...\n",
      " ['1986' 'Europe' 'Switzerland' 'Spirits' '2.54']\n",
      " ['1987' 'Western Pacific' 'Papua New Guinea' 'Other' '0']\n",
      " ['1986' 'Africa' 'Swaziland' 'Other' '5.15']]\n"
     ]
    }
   ],
   "source": [
    "import numpy as np \n",
    "world_alcohol = np.genfromtxt(\"world_alcohol.csv\", delimiter=\",\", dtype = \"U75\")\n",
    "print(world_alcohol)\n",
    "  "
   ]
  },
  {
   "cell_type": "code",
   "execution_count": 96,
   "id": "fd25b07b",
   "metadata": {},
   "outputs": [],
   "source": [
    "countries = world_alcohol[:,2]"
   ]
  },
  {
   "cell_type": "code",
   "execution_count": 97,
   "id": "13da88c6",
   "metadata": {},
   "outputs": [
    {
     "name": "stdout",
     "output_type": "stream",
     "text": [
      "['Country' 'Viet Nam' 'Uruguay' ... 'Switzerland' 'Papua New Guinea'\n",
      " 'Swaziland']\n"
     ]
    }
   ],
   "source": [
    "print(countries)"
   ]
  },
  {
   "cell_type": "code",
   "execution_count": 98,
   "id": "e36a42f7",
   "metadata": {},
   "outputs": [
    {
     "name": "stdout",
     "output_type": "stream",
     "text": [
      "['Display Value' '0' '0.5' ... '2.54' '0' '5.15']\n"
     ]
    }
   ],
   "source": [
    "alcohol_consumption = world_alcohol[:,4]\n",
    "print(alcohol_consumption)"
   ]
  },
  {
   "cell_type": "code",
   "execution_count": 102,
   "id": "e76c4412",
   "metadata": {},
   "outputs": [
    {
     "name": "stdout",
     "output_type": "stream",
     "text": [
      "[[ 10  20  30]\n",
      " [ 70  80  90]\n",
      " [110 120 130]\n",
      " [170 180 200]]\n"
     ]
    }
   ],
   "source": [
    "print(matrix)"
   ]
  },
  {
   "cell_type": "code",
   "execution_count": 103,
   "id": "c2c42dce",
   "metadata": {},
   "outputs": [
    {
     "data": {
      "text/plain": [
       "array([[ 10,  20],\n",
       "       [ 70,  80],\n",
       "       [110, 120],\n",
       "       [170, 180]])"
      ]
     },
     "execution_count": 103,
     "metadata": {},
     "output_type": "execute_result"
    }
   ],
   "source": [
    "matrix[:,0:2]"
   ]
  },
  {
   "cell_type": "code",
   "execution_count": 104,
   "id": "522c6152",
   "metadata": {},
   "outputs": [
    {
     "data": {
      "text/plain": [
       "array([[ 70,  80,  90],\n",
       "       [110, 120, 130]])"
      ]
     },
     "execution_count": 104,
     "metadata": {},
     "output_type": "execute_result"
    }
   ],
   "source": [
    "matrix[1:3,:]"
   ]
  },
  {
   "cell_type": "code",
   "execution_count": 106,
   "id": "7dcfeecf",
   "metadata": {},
   "outputs": [
    {
     "name": "stdout",
     "output_type": "stream",
     "text": [
      "[['Year' 'WHO region']\n",
      " ['1986' 'Western Pacific']\n",
      " ['1986' 'Americas']\n",
      " ...\n",
      " ['1986' 'Europe']\n",
      " ['1987' 'Western Pacific']\n",
      " ['1986' 'Africa']]\n"
     ]
    }
   ],
   "source": [
    "first_two_columns = world_alcohol[:,0:2]\n",
    "print(first_two_columns)"
   ]
  },
  {
   "cell_type": "code",
   "execution_count": 1,
   "id": "57b5f04a",
   "metadata": {},
   "outputs": [
    {
     "name": "stdout",
     "output_type": "stream",
     "text": [
      "[['Year' 'WHO region' 'Country' 'Beverage Types' 'Display Value']\n",
      " ['1986' 'Western Pacific' 'Viet Nam' 'Wine' '0']\n",
      " ['1986' 'Americas' 'Uruguay' 'Other' '0.5']\n",
      " ['1985' 'Africa' \"Cte d'Ivoire\" 'Wine' '1.62']\n",
      " ['1986' 'Americas' 'Colombia' 'Beer' '4.27']\n",
      " ['1987' 'Americas' 'Saint Kitts and Nevis' 'Beer' '1.98']\n",
      " ['1987' 'Americas' 'Guatemala' 'Other' '0']\n",
      " ['1987' 'Africa' 'Mauritius' 'Wine' '0.13']\n",
      " ['1985' 'Africa' 'Angola' 'Spirits' '0.39']\n",
      " ['1986' 'Americas' 'Antigua and Barbuda' 'Spirits' '1.55']]\n"
     ]
    }
   ],
   "source": [
    "import numpy as np\n",
    "world_alcohol = np.genfromtxt(\"world_alcohol.csv\", delimiter=\",\", dtype = \"U75\")\n",
    "first_ten_years = world_alcohol[0:10:]\n",
    "print(first_ten_years)"
   ]
  },
  {
   "cell_type": "code",
   "execution_count": 2,
   "id": "1a0c93e2",
   "metadata": {},
   "outputs": [
    {
     "name": "stdout",
     "output_type": "stream",
     "text": [
      "[['Year' 'WHO region' 'Country' 'Beverage Types' 'Display Value']\n",
      " ['1986' 'Western Pacific' 'Viet Nam' 'Wine' '0']\n",
      " ['1986' 'Americas' 'Uruguay' 'Other' '0.5']\n",
      " ['1985' 'Africa' \"Cte d'Ivoire\" 'Wine' '1.62']\n",
      " ['1986' 'Americas' 'Colombia' 'Beer' '4.27']\n",
      " ['1987' 'Americas' 'Saint Kitts and Nevis' 'Beer' '1.98']\n",
      " ['1987' 'Americas' 'Guatemala' 'Other' '0']\n",
      " ['1987' 'Africa' 'Mauritius' 'Wine' '0.13']\n",
      " ['1985' 'Africa' 'Angola' 'Spirits' '0.39']\n",
      " ['1986' 'Americas' 'Antigua and Barbuda' 'Spirits' '1.55']]\n"
     ]
    }
   ],
   "source": [
    "import numpy as np\n",
    "world_alcohol = np.genfromtxt(\"world_alcohol.csv\", delimiter=\",\", dtype = \"U75\")\n",
    "first_ten_rows = world_alcohol[0:10,:]\n",
    "print(first_ten_rows)"
   ]
  },
  {
   "cell_type": "code",
   "execution_count": 3,
   "id": "7613df86",
   "metadata": {},
   "outputs": [
    {
     "name": "stdout",
     "output_type": "stream",
     "text": [
      "[['Western Pacific' 'Viet Nam']\n",
      " ['Americas' 'Uruguay']\n",
      " ['Africa' \"Cte d'Ivoire\"]\n",
      " ['Americas' 'Colombia']\n",
      " ['Americas' 'Saint Kitts and Nevis']\n",
      " ['Americas' 'Guatemala']\n",
      " ['Africa' 'Mauritius']\n",
      " ['Africa' 'Angola']\n",
      " ['Americas' 'Antigua and Barbuda']\n",
      " ['Africa' 'Nigeria']\n",
      " ['Africa' 'Botswana']\n",
      " ['Americas' 'Guatemala']\n",
      " ['Western Pacific' \"Lao People's Democratic Republic\"]\n",
      " ['Eastern Mediterranean' 'Afghanistan']\n",
      " ['Western Pacific' 'Viet Nam']\n",
      " ['Africa' 'Guinea-Bissau']\n",
      " ['Americas' 'Costa Rica']\n",
      " ['Africa' 'Seychelles']\n",
      " ['Europe' 'Norway']\n",
      " ['Africa' 'Kenya']]\n"
     ]
    }
   ],
   "source": [
    "import numpy as np\n",
    "world_alcohol = np.genfromtxt(\"world_alcohol.csv\", delimiter=\",\", dtype = \"U75\",skip_header = 1)\n",
    "first_twenty_regions= world_alcohol[0:20,1:3]\n",
    "print(first_twenty_regions) "
   ]
  },
  {
   "cell_type": "code",
   "execution_count": 8,
   "id": "9f75b5a9",
   "metadata": {},
   "outputs": [
    {
     "data": {
      "text/plain": [
       "array([False, False,  True, False])"
      ]
     },
     "execution_count": 8,
     "metadata": {},
     "output_type": "execute_result"
    }
   ],
   "source": [
    "import numpy as np\n",
    "vector = np.array([10,20,25,50])\n",
    "vector == 25 #comparaison numpy"
   ]
  },
  {
   "cell_type": "code",
   "execution_count": 9,
   "id": "4be42eae",
   "metadata": {},
   "outputs": [],
   "source": [
    "matrix= np.array([[5,10,20],[25,30,35],[40,45,50]])"
   ]
  },
  {
   "cell_type": "code",
   "execution_count": 10,
   "id": "b6d098a3",
   "metadata": {},
   "outputs": [
    {
     "data": {
      "text/plain": [
       "array([[False, False, False],\n",
       "       [False, False, False],\n",
       "       [False, False,  True]])"
      ]
     },
     "execution_count": 10,
     "metadata": {},
     "output_type": "execute_result"
    }
   ],
   "source": [
    "matrix == 50"
   ]
  },
  {
   "cell_type": "code",
   "execution_count": 13,
   "id": "08172f0d",
   "metadata": {},
   "outputs": [
    {
     "data": {
      "text/plain": [
       "array([['1986', 'Western Pacific', 'Viet Nam', 'Wine', '0'],\n",
       "       ['1986', 'Americas', 'Uruguay', 'Other', '0.5'],\n",
       "       ['1985', 'Africa', \"Cte d'Ivoire\", 'Wine', '1.62'],\n",
       "       ...,\n",
       "       ['1986', 'Europe', 'Switzerland', 'Spirits', '2.54'],\n",
       "       ['1987', 'Western Pacific', 'Papua New Guinea', 'Other', '0'],\n",
       "       ['1986', 'Africa', 'Swaziland', 'Other', '5.15']], dtype='<U75')"
      ]
     },
     "execution_count": 13,
     "metadata": {},
     "output_type": "execute_result"
    }
   ],
   "source": [
    "world_alcohol = np.genfromtxt(\"world_alcohol.csv\", dtype =\"U75\", delimiter=\",\",skip_header=1)\n",
    "world_alcohol"
   ]
  },
  {
   "cell_type": "code",
   "execution_count": 14,
   "id": "eb4a0ec0",
   "metadata": {},
   "outputs": [
    {
     "data": {
      "text/plain": [
       "array(['Viet Nam', 'Uruguay', \"Cte d'Ivoire\", ..., 'Switzerland',\n",
       "       'Papua New Guinea', 'Swaziland'], dtype='<U75')"
      ]
     },
     "execution_count": 14,
     "metadata": {},
     "output_type": "execute_result"
    }
   ],
   "source": [
    "world_alcohol[:,2]"
   ]
  },
  {
   "cell_type": "code",
   "execution_count": 16,
   "id": "47d6252d",
   "metadata": {},
   "outputs": [
    {
     "data": {
      "text/plain": [
       "array([ True,  True,  True, ...,  True,  True,  True])"
      ]
     },
     "execution_count": 16,
     "metadata": {},
     "output_type": "execute_result"
    }
   ],
   "source": [
    "world_alcohol[:,2] == \"canada\""
   ]
  },
  {
   "cell_type": "code",
   "execution_count": 18,
   "id": "5c4b20b3",
   "metadata": {},
   "outputs": [
    {
     "data": {
      "text/plain": [
       "array([ True,  True,  True, ...,  True,  True,  True])"
      ]
     },
     "execution_count": 18,
     "metadata": {},
     "output_type": "execute_result"
    }
   ],
   "source": [
    "counries_canada = (world_alcohol[:,2] == \"canada\" )\n",
    "counries_canada"
   ]
  },
  {
   "cell_type": "code",
   "execution_count": 19,
   "id": "6b616882",
   "metadata": {},
   "outputs": [
    {
     "data": {
      "text/plain": [
       "array([False, False, False, ..., False, False, False])"
      ]
     },
     "execution_count": 19,
     "metadata": {},
     "output_type": "execute_result"
    }
   ],
   "source": [
    "years_1984 = (world_alcohol[:,0] == \"1984\")\n",
    "years_1984"
   ]
  },
  {
   "cell_type": "code",
   "execution_count": 7,
   "id": "995758f9",
   "metadata": {},
   "outputs": [
    {
     "name": "stdout",
     "output_type": "stream",
     "text": [
      "[10]\n"
     ]
    }
   ],
   "source": [
    "import numpy as np\n",
    "vector = np.array([5,10,15,20])\n",
    "equal_to_ten = (vector == 10) #retourne un vecteur de booleens\n",
    "print(vector[equal_to_ten])"
   ]
  },
  {
   "cell_type": "code",
   "execution_count": 10,
   "id": "b058ed88",
   "metadata": {},
   "outputs": [
    {
     "data": {
      "text/plain": [
       "array([[ 5, 10, 20],\n",
       "       [25, 30, 35],\n",
       "       [40, 45, 50]])"
      ]
     },
     "execution_count": 10,
     "metadata": {},
     "output_type": "execute_result"
    }
   ],
   "source": [
    "matrix= np.array([[5,10,20],[25,30,35],[40,45,50]])\n",
    "matrix"
   ]
  },
  {
   "cell_type": "code",
   "execution_count": 30,
   "id": "095e78c4",
   "metadata": {},
   "outputs": [
    {
     "name": "stdout",
     "output_type": "stream",
     "text": [
      "[[23 25 35]]\n"
     ]
    }
   ],
   "source": [
    "matrix= np.array([[5,10,20],[23,25,35],[40,45,50]])\n",
    "second_column_25 = (matrix[:,1] == 25)\n",
    "print(matrix[second_column_25,:])"
   ]
  },
  {
   "cell_type": "code",
   "execution_count": 33,
   "id": "ce484ea9",
   "metadata": {
    "scrolled": true
   },
   "outputs": [
    {
     "name": "stdout",
     "output_type": "stream",
     "text": [
      "[['1984' 'Africa' 'Algeria' 'Spirits' '0.01']\n",
      " ['1987' 'Africa' 'Algeria' 'Beer' '0.17']\n",
      " ['1987' 'Africa' 'Algeria' 'Spirits' '0.01']\n",
      " ['1986' 'Africa' 'Algeria' 'Wine' '0.1']\n",
      " ['1984' 'Africa' 'Algeria' 'Other' '0']\n",
      " ['1989' 'Africa' 'Algeria' 'Beer' '0.16']\n",
      " ['1989' 'Africa' 'Algeria' 'Spirits' '0.01']\n",
      " ['1989' 'Africa' 'Algeria' 'Wine' '0.23']\n",
      " ['1986' 'Africa' 'Algeria' 'Spirits' '0.01']\n",
      " ['1984' 'Africa' 'Algeria' 'Wine' '0.12']\n",
      " ['1985' 'Africa' 'Algeria' 'Beer' '0.19']\n",
      " ['1985' 'Africa' 'Algeria' 'Other' '0']\n",
      " ['1986' 'Africa' 'Algeria' 'Beer' '0.18']\n",
      " ['1985' 'Africa' 'Algeria' 'Wine' '0.11']\n",
      " ['1986' 'Africa' 'Algeria' 'Other' '0']\n",
      " ['1989' 'Africa' 'Algeria' 'Other' '0']\n",
      " ['1987' 'Africa' 'Algeria' 'Other' '0']\n",
      " ['1984' 'Africa' 'Algeria' 'Beer' '0.2']\n",
      " ['1985' 'Africa' 'Algeria' 'Spirits' '0.01']\n",
      " ['1987' 'Africa' 'Algeria' 'Wine' '0.1']]\n"
     ]
    }
   ],
   "source": [
    "import numpy as np\n",
    "world_alcohol = np.genfromtxt(\"world_alcohol.csv\", dtype =\"U75\", delimiter=\",\",skip_header=1)\n",
    "country_is_algeria = (world_alcohol[:,2] == \"Algeria\")\n",
    "country_algeria = world_alcohol[country_is_algeria]\n",
    "print(country_algeria)"
   ]
  },
  {
   "cell_type": "code",
   "execution_count": 32,
   "id": "31ba28b9",
   "metadata": {},
   "outputs": [],
   "source": [
    "#world_alcohol = np.genfromtxt(\"world_alcohol.csv\", dtype =\"U75\", delimiter=\",\" skip_header= 1)"
   ]
  },
  {
   "cell_type": "code",
   "execution_count": 38,
   "id": "35a2903d",
   "metadata": {
    "scrolled": true
   },
   "outputs": [
    {
     "name": "stdout",
     "output_type": "stream",
     "text": [
      "[['Year' 'WHO region' 'Country' 'Beverage Types' 'Display Value']\n",
      " ['1986' 'Western Pacific' 'Viet Nam' 'Wine' '0']\n",
      " ['1986' 'Americas' 'Uruguay' 'Other' '0.5']\n",
      " ...\n",
      " ['1986' 'Europe' 'Switzerland' 'Spirits' '2.54']\n",
      " ['1987' 'Western Pacific' 'Papua New Guinea' 'Other' '0']\n",
      " ['1986' 'Africa' 'Swaziland' 'Other' '5.15']]\n"
     ]
    }
   ],
   "source": [
    "print(world_alcohol)"
   ]
  },
  {
   "cell_type": "code",
   "execution_count": 12,
   "id": "51526090",
   "metadata": {},
   "outputs": [
    {
     "name": "stdout",
     "output_type": "stream",
     "text": [
      "[['1984' 'Africa' 'Nigeria' 'Other' '6.1']\n",
      " ['1984' 'Eastern Mediterranean' 'Afghanistan' 'Other' '0']\n",
      " ['1984' 'Americas' 'Costa Rica' 'Wine' '0.06']\n",
      " ...\n",
      " ['1984' 'Europe' 'Latvia' 'Spirits' '7.5']\n",
      " ['1984' 'Africa' 'Angola' 'Wine' '0.57']\n",
      " ['1984' 'Africa' 'Central African Republic' 'Wine' '0.46']]\n"
     ]
    }
   ],
   "source": [
    "import numpy as np\n",
    "world_alcohol = np.genfromtxt(\"world_alcohol.csv\", dtype =\"U75\", delimiter=\",\",skip_header=1)\n",
    "years_1984 = (world_alcohol[:,0] == \"1984\")\n",
    "print(world_alcohol[years_1984])"
   ]
  },
  {
   "cell_type": "code",
   "execution_count": 21,
   "id": "b11032fc",
   "metadata": {},
   "outputs": [
    {
     "data": {
      "text/plain": [
       "array([ 5, 10, 20, 30, 40])"
      ]
     },
     "execution_count": 21,
     "metadata": {},
     "output_type": "execute_result"
    }
   ],
   "source": [
    "vector = np.array([5,10,20,30,40])\n",
    "vector "
   ]
  },
  {
   "cell_type": "code",
   "execution_count": 24,
   "id": "9430bcb0",
   "metadata": {},
   "outputs": [
    {
     "name": "stdout",
     "output_type": "stream",
     "text": [
      "[ True  True False False False]\n"
     ]
    }
   ],
   "source": [
    "equal_to_five_or_ten = (vector == 10) | (vector == 5)\n",
    "print(equal_to_five_or_ten)"
   ]
  },
  {
   "cell_type": "code",
   "execution_count": 35,
   "id": "4a6323b4",
   "metadata": {},
   "outputs": [
    {
     "name": "stdout",
     "output_type": "stream",
     "text": [
      "[['1986' 'Africa' 'Algeria' 'Wine' '0.1']\n",
      " ['1986' 'Africa' 'Algeria' 'Spirits' '0.01']\n",
      " ['1986' 'Africa' 'Algeria' 'Beer' '0.18']\n",
      " ['1986' 'Africa' 'Algeria' 'Other' '0']]\n"
     ]
    }
   ],
   "source": [
    "is_algeria_and_1986 = (world_alcohol[:,2] == \"Algeria\")  & (world_alcohol[:,0] == \"1986\")\n",
    "rows_with_algeria_and_1986 = world_alcohol[is_algeria_and_1986]\n",
    "print(rows_with_algeria_and_1986)"
   ]
  },
  {
   "cell_type": "code",
   "execution_count": 39,
   "id": "c4f484a9",
   "metadata": {},
   "outputs": [
    {
     "name": "stdout",
     "output_type": "stream",
     "text": [
      "[False  True  True False False]\n"
     ]
    }
   ],
   "source": [
    "vector = np.array([20,10,5,30,40])\n",
    "equal_to_five_or_ten = (vector == 10) | (vector == 5)\n",
    "print(equal_to_five_or_ten)"
   ]
  },
  {
   "cell_type": "code",
   "execution_count": 40,
   "id": "5356e339",
   "metadata": {},
   "outputs": [
    {
     "name": "stdout",
     "output_type": "stream",
     "text": [
      "[20 50 50 30 40]\n"
     ]
    }
   ],
   "source": [
    "vector[equal_to_five_or_ten] = 50\n",
    "print(vector)"
   ]
  },
  {
   "cell_type": "code",
   "execution_count": 42,
   "id": "8ecfcb66",
   "metadata": {},
   "outputs": [
    {
     "data": {
      "text/plain": [
       "array([[ 5, 10, 15],\n",
       "       [20, 25, 30],\n",
       "       [35, 40, 45]])"
      ]
     },
     "execution_count": 42,
     "metadata": {},
     "output_type": "execute_result"
    }
   ],
   "source": [
    "matrix = np.array([[5,10,15],[20,25,30],[35,40,45]])\n",
    "matrix"
   ]
  },
  {
   "cell_type": "code",
   "execution_count": 43,
   "id": "daf451e1",
   "metadata": {},
   "outputs": [
    {
     "name": "stdout",
     "output_type": "stream",
     "text": [
      "[False  True False]\n"
     ]
    }
   ],
   "source": [
    "second_column_25 = matrix[:,1] == 25 \n",
    "print(second_column_25)"
   ]
  },
  {
   "cell_type": "code",
   "execution_count": 45,
   "id": "ea86f5e5",
   "metadata": {},
   "outputs": [
    {
     "name": "stdout",
     "output_type": "stream",
     "text": [
      "[[ 5 10 15]\n",
      " [10 10 10]\n",
      " [35 40 45]]\n"
     ]
    }
   ],
   "source": [
    "matrix[second_column_25] = 10\n",
    "print(matrix)"
   ]
  },
  {
   "cell_type": "code",
   "execution_count": 53,
   "id": "2f0a4ef4",
   "metadata": {},
   "outputs": [],
   "source": [
    "world_alcohol = np.genfromtxt(\"world_alcohol.csv\", dtype =\"U75\", delimiter=\",\",skip_header=1)\n",
    "world_alcohoh_2 = world_alcohol"
   ]
  },
  {
   "cell_type": "code",
   "execution_count": 18,
   "id": "d9d10923",
   "metadata": {},
   "outputs": [
    {
     "name": "stdout",
     "output_type": "stream",
     "text": [
      "[['Year' 'WHO region' 'Country' 'Beverage Types' 'Display Value']\n",
      " ['2018' 'Western Pacific' 'Viet Nam' 'Wine' '0']\n",
      " ['2018' 'Americas' 'Uruguay' 'Other' '0.5']\n",
      " ...\n",
      " ['2018' 'Europe' 'Switzerland' 'Spirits' '2.54']\n",
      " ['1987' 'Western Pacific' 'Papua New Guinea' 'Other' '0']\n",
      " ['2018' 'Africa' 'Swaziland' 'Other' '5.15']]\n"
     ]
    }
   ],
   "source": [
    "import numpy as np\n",
    "world_alcohol = np.genfromtxt(\"world_alcohol.csv\", dtype =\"U75\", delimiter=\",\")\n",
    "world_alcohol_2 = world_alcohol\n",
    "years_1986 = world_alcohol_2[:,0] == '1986'\n",
    "world_alcohol_2[years_1986,0] = '2018'\n",
    "print(world_alcohol_2)\n"
   ]
  },
  {
   "cell_type": "code",
   "execution_count": 86,
   "id": "1db4352b",
   "metadata": {},
   "outputs": [
    {
     "name": "stdout",
     "output_type": "stream",
     "text": [
      "[['1985' 'Africa' 'Cameroon' 'Spirits' '0.01']\n",
      " ['1984' 'Africa' 'Cameroon' 'Wine' '0.08']\n",
      " ['1987' 'Africa' 'Cameroon' 'Other' '3.97']\n",
      " ['1989' 'Africa' 'Cameroon' 'Other' '4.08']\n",
      " ['1987' 'Africa' 'Cameroon' 'Spirits' '0.02']\n",
      " ['1985' 'Africa' 'Cameroon' 'Wine' '0.09']\n",
      " ['1985' 'Africa' 'Cameroon' 'Other' '3.61']\n",
      " ['1984' 'Africa' 'Cameroon' 'Spirits' '0.01']\n",
      " ['1987' 'Africa' 'Cameroon' 'Beer' '2.39']\n",
      " ['1989' 'Africa' 'Cameroon' 'Beer' '2.11']\n",
      " ['1989' 'Africa' 'Cameroon' 'Wine' '0.13']\n",
      " ['1989' 'Africa' 'Cameroon' 'Spirits' '0.04']\n",
      " ['1985' 'Africa' 'Cameroon' 'Beer' '2.5']\n",
      " ['1984' 'Africa' 'Cameroon' 'Other' '3.55']\n",
      " ['1987' 'Africa' 'Cameroon' 'Wine' '0.12']\n",
      " ['1984' 'Africa' 'Cameroon' 'Beer' '2.33']]\n"
     ]
    }
   ],
   "source": [
    "country = world_alcohoh_2[:,2] == 'Cameroon'\n",
    "print(world_alcohoh_2[country])"
   ]
  },
  {
   "cell_type": "code",
   "execution_count": 58,
   "id": "3f26e2ab",
   "metadata": {},
   "outputs": [
    {
     "name": "stdout",
     "output_type": "stream",
     "text": [
      "[]\n"
     ]
    }
   ],
   "source": [
    "is_value_empty = world_alcohol[:,4] == '2.39'\n",
    "#world_alcohol[is_value_empty] = 0 \n",
    "print(world_alcohol[is_value_empty])"
   ]
  },
  {
   "cell_type": "code",
   "execution_count": 54,
   "id": "85c47e91",
   "metadata": {},
   "outputs": [
    {
     "data": {
      "text/plain": [
       "array([ 5., 10., 20.])"
      ]
     },
     "execution_count": 54,
     "metadata": {},
     "output_type": "execute_result"
    }
   ],
   "source": [
    "vector = np.array([\"5\",\"10\",\"20\"])\n",
    "vector = vector.astype(float)\n",
    "vector"
   ]
  },
  {
   "cell_type": "code",
   "execution_count": 6,
   "id": "495f8107",
   "metadata": {},
   "outputs": [
    {
     "name": "stdout",
     "output_type": "stream",
     "text": [
      "[2.018e+03 2.018e+03 1.620e+00 ... 2.018e+03 0.000e+00 2.018e+03]\n"
     ]
    }
   ],
   "source": [
    "\n",
    "alcohol_consumption = world_alcohol[:,4]\n",
    "alcohol_consumption = alcohol_consumption.astype(float) \n",
    "print(alcohol_consumption)"
   ]
  },
  {
   "cell_type": "code",
   "execution_count": 101,
   "id": "96599119",
   "metadata": {},
   "outputs": [
    {
     "data": {
      "text/plain": [
       "65"
      ]
     },
     "execution_count": 101,
     "metadata": {},
     "output_type": "execute_result"
    }
   ],
   "source": [
    "vector = np.array([5,10,20,30])\n",
    "vector.sum()             "
   ]
  },
  {
   "cell_type": "code",
   "execution_count": 103,
   "id": "4b7734b2",
   "metadata": {},
   "outputs": [
    {
     "data": {
      "text/plain": [
       "16.25"
      ]
     },
     "execution_count": 103,
     "metadata": {},
     "output_type": "execute_result"
    }
   ],
   "source": [
    "vector.mean()"
   ]
  },
  {
   "cell_type": "code",
   "execution_count": 104,
   "id": "f22a3c79",
   "metadata": {},
   "outputs": [
    {
     "data": {
      "text/plain": [
       "30"
      ]
     },
     "execution_count": 104,
     "metadata": {},
     "output_type": "execute_result"
    }
   ],
   "source": [
    "vector.max()"
   ]
  },
  {
   "cell_type": "code",
   "execution_count": 109,
   "id": "b2306442",
   "metadata": {},
   "outputs": [
    {
     "name": "stdout",
     "output_type": "stream",
     "text": [
      "[[ 5 10 15]\n",
      " [20 25 30]\n",
      " [35 40 45]]\n"
     ]
    },
    {
     "data": {
      "text/plain": [
       "array([ 30,  75, 120])"
      ]
     },
     "execution_count": 109,
     "metadata": {},
     "output_type": "execute_result"
    }
   ],
   "source": [
    "matrix = np.array([[5,10,15],[20,25,30],[35,40,45]])\n",
    "print(matrix)\n",
    "matrix.sum(axis=1)"
   ]
  },
  {
   "cell_type": "code",
   "execution_count": 106,
   "id": "13a817ff",
   "metadata": {},
   "outputs": [
    {
     "data": {
      "text/plain": [
       "array([60, 75, 90])"
      ]
     },
     "execution_count": 106,
     "metadata": {},
     "output_type": "execute_result"
    }
   ],
   "source": [
    "matrix.sum(axis=0)"
   ]
  },
  {
   "cell_type": "code",
   "execution_count": 111,
   "id": "75a3bfbf",
   "metadata": {},
   "outputs": [
    {
     "data": {
      "text/plain": [
       "3908.96"
      ]
     },
     "execution_count": 111,
     "metadata": {},
     "output_type": "execute_result"
    }
   ],
   "source": [
    "total_alcohol = alcohol_consumption.sum()\n",
    "total_alcohol"
   ]
  },
  {
   "cell_type": "code",
   "execution_count": 113,
   "id": "cdcd7d86",
   "metadata": {},
   "outputs": [
    {
     "data": {
      "text/plain": [
       "1.2001719373656738"
      ]
     },
     "execution_count": 113,
     "metadata": {},
     "output_type": "execute_result"
    }
   ],
   "source": [
    "average_alcohol_consumption = alcohol_consumption.mean()\n",
    "average_alcohol_consumption"
   ]
  },
  {
   "cell_type": "code",
   "execution_count": 172,
   "id": "28269afa",
   "metadata": {},
   "outputs": [
    {
     "name": "stdout",
     "output_type": "stream",
     "text": [
      "[['1986' 'Americas' 'Canada' 'Spirits' '3.11']\n",
      " ['1986' 'Americas' 'Canada' 'Beer' '4.87']\n",
      " ['1986' 'Americas' 'Canada' 'Wine' '1.33']]\n"
     ]
    }
   ],
   "source": [
    "canada_1986 = (world_alcohol[:,0] == \"1986\") & (world_alcohol[:,2] == \"Canada\")                   \n",
    "canada_1986 = world_alcohol[canada_1986]\n",
    "print(canada_1986)"
   ]
  },
  {
   "cell_type": "code",
   "execution_count": 169,
   "id": "51d2d693",
   "metadata": {},
   "outputs": [
    {
     "name": "stdout",
     "output_type": "stream",
     "text": [
      "['3.11' '4.87' '1.33']\n"
     ]
    }
   ],
   "source": [
    "canada_alcohol = canada_1986[:,4]\n",
    "print(canada_alcohol)"
   ]
  },
  {
   "cell_type": "code",
   "execution_count": null,
   "id": "60d24423",
   "metadata": {},
   "outputs": [],
   "source": [
    "empty_strings = canada_1986[:,4] == ''\n",
    "canada_alcohol[empty_strings] = 0\n",
    "print(canada_alcohol)"
   ]
  },
  {
   "cell_type": "code",
   "execution_count": 167,
   "id": "7a925bbd",
   "metadata": {},
   "outputs": [
    {
     "name": "stdout",
     "output_type": "stream",
     "text": [
      "[3.11 4.87 1.33]\n"
     ]
    }
   ],
   "source": [
    "canada_alcohol = canada_alcohol.astype(float)\n",
    "print(canada_alcohol)"
   ]
  },
  {
   "cell_type": "code",
   "execution_count": 168,
   "id": "08e0bf0d",
   "metadata": {},
   "outputs": [
    {
     "name": "stdout",
     "output_type": "stream",
     "text": [
      "9.31\n"
     ]
    }
   ],
   "source": [
    "total_canada_drinking = canada_alcohol.sum()\n",
    "print(total_canada_drinking)"
   ]
  }
 ],
 "metadata": {
  "kernelspec": {
   "display_name": "Python 3 (ipykernel)",
   "language": "python",
   "name": "python3"
  },
  "language_info": {
   "codemirror_mode": {
    "name": "ipython",
    "version": 3
   },
   "file_extension": ".py",
   "mimetype": "text/x-python",
   "name": "python",
   "nbconvert_exporter": "python",
   "pygments_lexer": "ipython3",
   "version": "3.9.13"
  }
 },
 "nbformat": 4,
 "nbformat_minor": 5
}
