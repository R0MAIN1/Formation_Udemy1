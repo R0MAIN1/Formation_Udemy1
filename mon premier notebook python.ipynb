{
 "cells": [
  {
   "cell_type": "markdown",
   "id": "0e5c7e06",
   "metadata": {},
   "source": [
    "## mon premier code python"
   ]
  },
  {
   "cell_type": "code",
   "execution_count": 19,
   "id": "cc449c4a",
   "metadata": {},
   "outputs": [
    {
     "name": "stdout",
     "output_type": "stream",
     "text": [
      "bonjour tout le monde\n"
     ]
    }
   ],
   "source": [
    "print('bonjour tout le monde')"
   ]
  },
  {
   "cell_type": "code",
   "execution_count": 20,
   "id": "c01992bf",
   "metadata": {},
   "outputs": [],
   "source": [
    "import numpy as np"
   ]
  },
  {
   "cell_type": "code",
   "execution_count": 21,
   "id": "624123c6",
   "metadata": {},
   "outputs": [],
   "source": [
    "import numpy as np "
   ]
  },
  {
   "cell_type": "code",
   "execution_count": 22,
   "id": "aa2687ec",
   "metadata": {},
   "outputs": [],
   "source": [
    "vector = np.array([34,17,6])"
   ]
  },
  {
   "cell_type": "code",
   "execution_count": 23,
   "id": "87951f6a",
   "metadata": {},
   "outputs": [
    {
     "name": "stdout",
     "output_type": "stream",
     "text": [
      "[34 17  6]\n"
     ]
    }
   ],
   "source": [
    "print(vector)"
   ]
  },
  {
   "cell_type": "code",
   "execution_count": 24,
   "id": "d781569a",
   "metadata": {},
   "outputs": [],
   "source": [
    "matrix = np.array([[2,4,6], [20,23,26],[26,70,50]])"
   ]
  },
  {
   "cell_type": "code",
   "execution_count": 25,
   "id": "d13a609f",
   "metadata": {},
   "outputs": [],
   "source": [
    "matrix = np.array([[2,4,6], [20,23,26],[26,70,50]])"
   ]
  },
  {
   "cell_type": "code",
   "execution_count": 26,
   "id": "1e67471f",
   "metadata": {},
   "outputs": [
    {
     "name": "stdout",
     "output_type": "stream",
     "text": [
      "[[ 2  4  6]\n",
      " [20 23 26]\n",
      " [26 70 50]]\n"
     ]
    }
   ],
   "source": [
    "print(matrix)"
   ]
  },
  {
   "cell_type": "code",
   "execution_count": 27,
   "id": "76779dd3",
   "metadata": {},
   "outputs": [],
   "source": [
    "import numpy as np "
   ]
  },
  {
   "cell_type": "code",
   "execution_count": 28,
   "id": "729bcc47",
   "metadata": {},
   "outputs": [],
   "source": [
    "import numpy as np"
   ]
  },
  {
   "cell_type": "code",
   "execution_count": 29,
   "id": "fc3bec9e",
   "metadata": {},
   "outputs": [],
   "source": [
    "vector = np.array([10,8,9])\n",
    "matrix = np.array ([[100,101,806],[1000,2000,3000],[18,19,20]])"
   ]
  },
  {
   "cell_type": "code",
   "execution_count": 31,
   "id": "66bc606e",
   "metadata": {},
   "outputs": [],
   "source": [
    "vector = np.array([10,8,9])\n",
    "matrix = np.array ([[100,101,806],[1000,2000,3000],[18,19,20]])"
   ]
  },
  {
   "cell_type": "code",
   "execution_count": null,
   "id": "0b315a52",
   "metadata": {},
   "outputs": [],
   "source": [
    "import numpy as np\n",
    "vector = np.array([10,8,9])\n",
    "matrix = np.array ([[100,101,806]],[1000,2000,3000],[18,19,20])"
   ]
  },
  {
   "cell_type": "code",
   "execution_count": 14,
   "id": "1a5e2a89",
   "metadata": {},
   "outputs": [],
   "source": [
    "import numpy as np\n",
    "vector = np.array([10,8,9])\n",
    "matrix = np.array ([[100,101,806],[1000,2000,3000],[18,19,20]])"
   ]
  },
  {
   "cell_type": "code",
   "execution_count": 16,
   "id": "997f5bf3",
   "metadata": {},
   "outputs": [
    {
     "name": "stdout",
     "output_type": "stream",
     "text": [
      "[10  8  9]\n",
      "[[ 100  101  806]\n",
      " [1000 2000 3000]\n",
      " [  18   19   20]]\n"
     ]
    }
   ],
   "source": [
    "print(vector)\n",
    "print(matrix)"
   ]
  },
  {
   "cell_type": "code",
   "execution_count": 13,
   "id": "86047b06",
   "metadata": {},
   "outputs": [
    {
     "name": "stdout",
     "output_type": "stream",
     "text": [
      "[10  8  9]\n",
      "[[ 2  4  6]\n",
      " [20 23 26]\n",
      " [26 70 50]]\n"
     ]
    }
   ],
   "source": [
    "print(vector)\n",
    "print(matrix)"
   ]
  },
  {
   "cell_type": "code",
   "execution_count": null,
   "id": "29dda00d",
   "metadata": {},
   "outputs": [],
   "source": []
  }
 ],
 "metadata": {
  "kernelspec": {
   "display_name": "Python 3 (ipykernel)",
   "language": "python",
   "name": "python3"
  },
  "language_info": {
   "codemirror_mode": {
    "name": "ipython",
    "version": 3
   },
   "file_extension": ".py",
   "mimetype": "text/x-python",
   "name": "python",
   "nbconvert_exporter": "python",
   "pygments_lexer": "ipython3",
   "version": "3.9.13"
  }
 },
 "nbformat": 4,
 "nbformat_minor": 5
}
